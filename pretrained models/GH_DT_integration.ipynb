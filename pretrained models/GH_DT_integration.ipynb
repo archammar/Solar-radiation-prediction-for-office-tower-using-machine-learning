{
 "cells": [
  {
   "cell_type": "markdown",
   "metadata": {},
   "source": [
    "# Importing the required python libraries\n",
    "\n"
   ]
  },
  {
   "cell_type": "code",
   "execution_count": 1,
   "metadata": {},
   "outputs": [],
   "source": [
    "\n",
    "import pandas as pd\n",
    "import numpy as np\n",
    "import time\n",
    "import matplotlib.pyplot as plt \n",
    "import seaborn as sb # used to plot the heatmap\n",
    "import pickle\n",
    "from sklearn.preprocessing import OneHotEncoder\n",
    "from sklearn.tree import DecisionTreeRegressor  \n",
    "from sklearn.ensemble import RandomForestRegressor\n",
    "from sklearn.metrics import mean_squared_error, mean_absolute_error, r2_score\n",
    "start1 = time.perf_counter()"
   ]
  },
  {
   "cell_type": "code",
   "execution_count": 2,
   "metadata": {},
   "outputs": [],
   "source": [
    "# The data is read as a pandas data frame\n",
    "data = pd.read_csv(\"finalized_data.csv\").dropna()"
   ]
  },
  {
   "cell_type": "markdown",
   "metadata": {},
   "source": [
    "# Data point to be predicted"
   ]
  },
  {
   "cell_type": "code",
   "execution_count": 3,
   "metadata": {},
   "outputs": [],
   "source": [
    "_input = [12.0,\n",
    "1,\n",
    "2,\n",
    "1,\n",
    "2,\n",
    "9.0,\n",
    "1,\n",
    "0.0,\n",
    "10.0,\n",
    "[-60.6, -45.0, 3.6],\n",
    "[-60.6, -45.0, 2.8],\n",
    "[-60.6, -45.0, 2.0],\n",
    "[-60.6, -45.0, 1.2],\n",
    "[-60.6, -45.0, 0.4],\n",
    "[-59.8, -45.0, 3.6],\n",
    "[-59.8, -45.0, 2.8],\n",
    "[-59.8, -45.0, 2.0],\n",
    "[-59.8, -45.0, 1.2],\n",
    "[-59.8, -45.0, 0.4],\n",
    "[-59.0, -45.0, 3.6],\n",
    "[-59.0, -45.0, 2.8],\n",
    "[-59.0, -45.0, 2.0],\n",
    "[-59.0, -45.0, 1.2],\n",
    "[-59.0, -45.0, 0.4],\n",
    "[-58.2, -45.0, 3.6],\n",
    "[-58.2, -45.0, 2.8],\n",
    "[-58.2, -45.0, 2.0],\n",
    "[-58.2, -45.0, 1.2],\n",
    "[-58.2, -45.0, 0.4],\n",
    "[-57.4, -45.0, 3.6],\n",
    "[-57.4, -45.0, 2.8],\n",
    "[-57.4, -45.0, 2.0],\n",
    "[-57.4, -45.0, 1.2],\n",
    "[-57.4, -45.0, 0.4],\n",
    "         \n",
    "]\n"
   ]
  },
  {
   "cell_type": "code",
   "execution_count": 4,
   "metadata": {},
   "outputs": [],
   "source": [
    "def data_create(_inp):\n",
    "    test_dat=np.zeros((25,13))\n",
    "    tmp = np.tile(_inp[0],(25)) \n",
    "    test_dat[:,0] = tmp\n",
    "    tmp = np.tile(_inp[1],(25))\n",
    "    test_dat[:,1] = tmp\n",
    "    tmp = np.tile(_inp[2],(25))\n",
    "    test_dat[:,2] = tmp\n",
    "    tmp = np.tile(_inp[3],(25))\n",
    "    test_dat[:,3] = tmp\n",
    "    tmp = np.tile(_inp[4],(25))\n",
    "    test_dat[:,4] = tmp\n",
    "    tmp = np.tile(_inp[5],(25))\n",
    "    test_dat[:,5] = tmp\n",
    "    tmp = np.tile(_inp[6],(25))\n",
    "    test_dat[:,6] = tmp\n",
    "    tmp = np.tile(_inp[7],(25))\n",
    "    test_dat[:,7] = tmp\n",
    "    tmp = np.tile(_inp[8],(25))\n",
    "    test_dat[:,8] = tmp\n",
    "\n",
    "    for i in range(9,34):\n",
    "        tmp =list(_input[i])  \n",
    "        tmp = np.asarray(tmp)\n",
    "        tmp = np.reshape(tmp,(1,tmp.shape[0]))\n",
    "        test_dat[i-9,9:12] = tmp\n",
    "    return test_dat\n",
    "\n",
    " "
   ]
  },
  {
   "cell_type": "code",
   "execution_count": 5,
   "metadata": {},
   "outputs": [],
   "source": [
    "n = len(_input)/34\n",
    "test_data=np.zeros((0,13))\n",
    "start=0\n",
    "for i in range(int(n)):\n",
    "    T = data_create(_input[start:start+34])\n",
    "    test_data = np.concatenate((test_data,T),axis=0)\n",
    "    start = start+34\n",
    "\n",
    " \n",
    "test_data = pd.DataFrame(test_data, columns=[str(i) for i in range(13)])  \n",
    "\n",
    "dat = test_data.values\n",
    "new_dat = np.zeros((test_data.shape[0], test_data.shape[1]))"
   ]
  },
  {
   "cell_type": "code",
   "execution_count": 6,
   "metadata": {},
   "outputs": [],
   "source": [
    "for i in range(int(n)):\n",
    "    cur = dat[i*25,:] \n",
    "    D = data[data['0'] == int(cur[0])]\n",
    "    if D.shape[0]!=0:\n",
    "     \n",
    "        D = D[D['1'] == cur[1]] \n",
    "        \n",
    "        D = D[D['2'] == cur[2]] \n",
    "        \n",
    "        D = D[D['3'] == cur[3]] \n",
    "        \n",
    "        D = D[D['4'] == cur[4]] \n",
    "        \n",
    "        D = D[D['5'] == cur[5]] \n",
    "        \n",
    "        D = D[D['6'] == cur[6]] \n",
    "        \n",
    "        D = D[D['7'] == cur[7]] \n",
    "\n",
    "        D = D[D['8'] == cur[8]] \n",
    "        \n",
    "    \n",
    "    D = D.values\n",
    " \n",
    "    test_data.iloc[i*25:(i+1)*25,9:12] = D[:,9:12]"
   ]
  },
  {
   "cell_type": "code",
   "execution_count": 7,
   "metadata": {},
   "outputs": [],
   "source": [
    "# Array that specifies which columns are categorical inputs\n",
    "categorical_features = [\"0\", \"1\", \"2\", \"3\", \"4\",\"5\", \"6\", \"7\", \"8\"] # Except column \"7\", all are label encoded and \"7\" is \n",
    "                                                               # one-hot encoded. \n",
    "# Array that specifies which columns are continuous inputs\n",
    "contnuous_features = [\"9\",\"10\",\"11\"]\n",
    "output_feature = \"12\"  # specifies which column is output\n",
    "\n",
    "\n",
    "temp={}\n",
    "label_encoders = {} \n",
    "# for loop starts for label encoding\n",
    "for i in range(0,len(categorical_features)): \n",
    "    #codes for one-hot encoding\n",
    "    label_encoders[categorical_features[i]] = OneHotEncoder(handle_unknown='ignore')\n",
    "    label_encoders[categorical_features[i]].fit(data[categorical_features[i]].values.reshape(-1,1))\n",
    "    temp[categorical_features[i]]=label_encoders[categorical_features[i]].transform(test_data[categorical_features[i]].values.reshape(-1,1)).toarray() \n"
   ]
  },
  {
   "cell_type": "code",
   "execution_count": 8,
   "metadata": {},
   "outputs": [],
   "source": [
    "ind=13\n",
    "new_categorical_features=[]\n",
    "for i in range(0,len(categorical_features)):\n",
    "    for j in range(0,temp[categorical_features[i]].shape[1]):\n",
    "        test_data[str(ind)] = temp[categorical_features[i]][:,j]\n",
    "        new_categorical_features.append(str(ind)) # Stroing the column identity of newly added one-hot encoded columns as \n",
    "                                                  # categorical input.\n",
    "        ind=ind+1\n",
    "    test_data=test_data.drop([categorical_features[i]], axis=1) # The old column is deleted from the data"
   ]
  },
  {
   "cell_type": "code",
   "execution_count": 9,
   "metadata": {},
   "outputs": [
    {
     "data": {
      "text/plain": [
       "(25, 60)"
      ]
     },
     "execution_count": 9,
     "metadata": {},
     "output_type": "execute_result"
    }
   ],
   "source": [
    "test_data = test_data.values\n",
    "test_data_new=test_data[:,0:3]\n",
    "test_data = np.concatenate((test_data_new, test_data[:,4:]),axis=1)\n",
    "test_data.shape"
   ]
  },
  {
   "cell_type": "code",
   "execution_count": 10,
   "metadata": {},
   "outputs": [],
   "source": [
    "filename = 'C:/Users/iist/Documents/asif/project/New folder/DT_finalized_model.sav'\n",
    "loaded_model = pickle.load(open(filename, 'rb'))\n",
    "y_pred = loaded_model.predict(test_data)\n",
    "y_pred=y_pred.reshape(y_pred.shape[0],1) # Reshaping y_pred for visualization\n",
    "output_ = y_pred"
   ]
  },
  {
   "cell_type": "code",
   "execution_count": 11,
   "metadata": {},
   "outputs": [
    {
     "name": "stdout",
     "output_type": "stream",
     "text": [
      "Runtime of the program is 4.288933\n"
     ]
    }
   ],
   "source": [
    "end = time.perf_counter()\n",
    "\n",
    "# total time taken\n",
    "print(f\"Runtime of the program is {end - start1}\")"
   ]
  },
  {
   "cell_type": "markdown",
   "metadata": {},
   "source": [
    "# The output heatmap"
   ]
  },
  {
   "cell_type": "code",
   "execution_count": 12,
   "metadata": {},
   "outputs": [
    {
     "data": {
      "image/png": "[encoded data removed]",
      "text/plain": [
       "<Figure size 864x288 with 2 Axes>"
      ]
     },
     "metadata": {
      "needs_background": "light"
     },
     "output_type": "display_data"
    }
   ],
   "source": [
    "y_pred = np.reshape(y_pred,(5,5)) \n",
    "plt.figure(figsize=(12,4))\n",
    "plt.subplot(121)\n",
    "plt.title('Heatmap')\n",
    "heat_map = sb.heatmap(y_pred,  vmin = 0, vmax = 1.30141, cmap=\"OrRd_r\", annot=True)\n",
    "plt.show()"
   ]
  },
  {
   "cell_type": "code",
   "execution_count": null,
   "metadata": {},
   "outputs": [],
   "source": []
  }
 ],
 "metadata": {
  "kernelspec": {
   "display_name": "Python 3",
   "language": "python",
   "name": "python3"
  },
  "language_info": {
   "codemirror_mode": {
    "name": "ipython",
    "version": 3
   },
   "file_extension": ".py",
   "mimetype": "text/x-python",
   "name": "python",
   "nbconvert_exporter": "python",
   "pygments_lexer": "ipython3",
   "version": "3.8.3"
  }
 },
 "nbformat": 4,
 "nbformat_minor": 2
}
