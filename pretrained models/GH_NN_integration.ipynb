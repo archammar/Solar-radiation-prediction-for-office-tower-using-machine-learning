{
 "cells": [
  {
   "cell_type": "markdown",
   "metadata": {},
   "source": [
    "# Importing the required python libraries\n",
    "\n"
   ]
  },
  {
   "cell_type": "code",
   "execution_count": 1,
   "metadata": {},
   "outputs": [],
   "source": [
    "\n",
    "import pandas as pd\n",
    "import numpy as np\n",
    "# import time\n",
    "import matplotlib.pyplot as plt \n",
    "from mpl_toolkits.mplot3d import Axes3D\n",
    "import seaborn as sb # used to plot the heatmap\n",
    "\n",
    "# from sklearn.preprocessing import OneHotEncoder\n",
    "from sklearn.metrics import mean_squared_error\n",
    "from sklearn.metrics import mean_absolute_error\n",
    "# from sklearn.metrics import mean_absolute_percentage_error\n",
    "from sklearn.metrics import r2_score\n",
    "# from sklearn.model_selection import train_test_split\n",
    "\n",
    "from sklearn.preprocessing import OneHotEncoder\n",
    "from sklearn.metrics import mean_squared_error,  mean_absolute_error, r2_score\n",
    "from sklearn.model_selection import train_test_split\n",
    "\n",
    "import torch\n",
    "import torch.nn as nn\n",
    "import torch.nn.functional as F\n",
    "from torch.utils.data import Dataset, DataLoader\n",
    "# torch.manual_seed(0)\n",
    "# start = time.time()"
   ]
  },
  {
   "cell_type": "code",
   "execution_count": 2,
   "metadata": {},
   "outputs": [],
   "source": [
    "class TabularDataset(Dataset):\n",
    "    def __init__(self, data, cat_cols=None, output_col=None):\n",
    "        \"\"\"\n",
    "        Characterizes a Dataset for PyTorch\n",
    "\n",
    "        Parameters\n",
    "        ----------\n",
    "\n",
    "        data: pandas data frame\n",
    "        The data frame object for the input data. It must\n",
    "        contain all the continuous, categorical and the\n",
    "        output columns to be used.\n",
    "\n",
    "        cat_cols: List of strings\n",
    "        The names of the categorical columns in the data.\n",
    "        These columns will be passed through the embedding\n",
    "        layers in the model. These columns must be\n",
    "        label encoded beforehand. \n",
    "\n",
    "        output_col: string\n",
    "        The name of the output variable column in the data\n",
    "        provided.\n",
    "        \"\"\"\n",
    "\n",
    "        self.n = data.shape[0] # n stores the total number of data points\n",
    "\n",
    "        if output_col:\n",
    "            self.y = data[output_col].astype(np.float32).values.reshape(-1, 1) #data[output_col] contains two columns \n",
    "                                                                            #(first column is the index). This line converts it \n",
    "                                                                            # to single column\n",
    "            \n",
    "        else:\n",
    "            self.y = np.zeros((self.n, 1)) # a general case when out\n",
    "\n",
    "        self.cat_cols = cat_cols if cat_cols else [] # categorical inputs are stored in \"self.cat_cols\"\n",
    "        self.cont_cols = [\n",
    "            col for col in data.columns if col not in self.cat_cols + [output_col] # finds out the columns that have \n",
    "                                                                                   # contionuos inputs\n",
    "        ]\n",
    "\n",
    "        if self.cont_cols:\n",
    "            self.cont_X = data[self.cont_cols].astype(np.float32).values # The data corresponding to \n",
    "                                                                         # continuous columns are stored in \"self.cont_x\"\n",
    "        else:\n",
    "            self.cont_X = np.zeros((self.n, 1))\n",
    "\n",
    "        if self.cat_cols:\n",
    "            self.cat_X = data[cat_cols].astype(np.int64).values # The data corresponding to \n",
    "                                                                # categorical columns are stored in \"self.cont_x\"\n",
    "        else:\n",
    "            self.cat_X = np.zeros((self.n, 1))\n",
    "\n",
    "    def __len__(self):\n",
    "        \"\"\"\n",
    "        Denotes the total number of samples.\n",
    "        \"\"\"\n",
    "        return self.n\n",
    "\n",
    "    def __getitem__(self, idx):\n",
    "        \"\"\"\n",
    "        Generates one sample of data as a triplet --> #(output, continous inputs, categorical inputs)\n",
    "        \"\"\"\n",
    "        return [self.y[idx], self.cont_X[idx], self.cat_X[idx]]"
   ]
  },
  {
   "cell_type": "markdown",
   "metadata": {},
   "source": [
    "# Definition of the Neural network"
   ]
  },
  {
   "cell_type": "code",
   "execution_count": 3,
   "metadata": {},
   "outputs": [],
   "source": [
    "class FeedForwardNN(nn.Module):\n",
    "    def __init__(\n",
    "        self,\n",
    "        emb_dims,\n",
    "        no_of_cont,\n",
    "        lin_layer_sizes,\n",
    "        output_size,\n",
    "        emb_dropout,\n",
    "        lin_layer_dropouts,\n",
    "    ):\n",
    "\n",
    "        \"\"\"\n",
    "        Parameters\n",
    "        ----------\n",
    "\n",
    "        emb_dims: List of two element tuples\n",
    "        This list will contain a two element tuple for each\n",
    "        categorical feature. The first element of a tuple will\n",
    "        denote the number of unique values of the categorical\n",
    "        feature. The second element will denote the embedding\n",
    "        dimension to be used for that feature.\n",
    "\n",
    "        no_of_cont: Integer\n",
    "        The number of continuous features in the data.\n",
    "\n",
    "        lin_layer_sizes: List of integers.\n",
    "        The size of each linear layer. The length will be equal\n",
    "        to the total number\n",
    "        of linear layers in the network.\n",
    "\n",
    "        output_size: Integer\n",
    "        The size of the final output.\n",
    "\n",
    "        emb_dropout: Float\n",
    "        The dropout to be used after the embedding layers.\n",
    "\n",
    "        lin_layer_dropouts: List of floats\n",
    "        The dropouts to be used after each linear layer.\n",
    "        \"\"\"\n",
    "\n",
    "        super().__init__()\n",
    "\n",
    "        # Embedding layers of categorical inputs\n",
    "        self.emb_layers = nn.ModuleList([nn.Embedding(x, y) for x, y in emb_dims])\n",
    "\n",
    "        no_of_embs = sum([y for x, y in emb_dims])\n",
    "        self.no_of_embs = no_of_embs\n",
    "        self.no_of_cont = no_of_cont\n",
    "\n",
    "        # Linear Layers of the nueral network\n",
    "        first_lin_layer = nn.Linear(\n",
    "            self.no_of_embs + self.no_of_cont, lin_layer_sizes[0]\n",
    "        ) # first layer where data is fed into the network\n",
    "        # Following lines define the hidden layers\n",
    "        self.lin_layers = nn.ModuleList(\n",
    "            [first_lin_layer]\n",
    "            + [\n",
    "                nn.Linear(lin_layer_sizes[i], lin_layer_sizes[i + 1])\n",
    "                for i in range(len(lin_layer_sizes) - 1)\n",
    "            ]\n",
    "        )\n",
    "        # Initializing the weights of neural network layers\n",
    "        for lin_layer in self.lin_layers:\n",
    "            nn.init.kaiming_normal_(lin_layer.weight.data)\n",
    "\n",
    "        # Output Layer\n",
    "        self.output_layer = nn.Linear(lin_layer_sizes[-1], output_size)\n",
    "        nn.init.kaiming_normal_(self.output_layer.weight.data)\n",
    "\n",
    "        # Batch Norm Layers, It is used to normalize the data into the layers to avoid overfitting and to optimize network\n",
    "        self.first_bn_layer = nn.BatchNorm1d(self.no_of_cont)\n",
    "        self.bn_layers = nn.ModuleList(\n",
    "            [nn.BatchNorm1d(size) for size in lin_layer_sizes]\n",
    "        )\n",
    "\n",
    "        # Dropout Layers used as regularization\n",
    "        self.emb_dropout_layer = nn.Dropout(emb_dropout)\n",
    "        self.droput_layers = nn.ModuleList(\n",
    "            [nn.Dropout(size) for size in lin_layer_dropouts]\n",
    "        )\n",
    "\n",
    "    def forward(self, cont_data, cat_data):\n",
    "        # This function defines the mathematical operations of the neural network \n",
    "        if self.no_of_embs != 0: # Defines the embedding layer of categorical inputs\n",
    "            x = [\n",
    "                emb_layer(cat_data[:, i]) for i, emb_layer in enumerate(self.emb_layers)\n",
    "            ]\n",
    "            x = torch.cat(x, 1)\n",
    "            x = self.emb_dropout_layer(x) # dropout regularization of categorical inputs \n",
    "\n",
    "        if self.no_of_cont != 0:\n",
    "            normalized_cont_data = self.first_bn_layer(cont_data) # defines the linear (normal nueral net hidden layer)\n",
    "                                                                  # for continous inputs\n",
    "\n",
    "            if self.no_of_embs != 0:\n",
    "                x = torch.cat([x, normalized_cont_data], 1)\n",
    "            else:\n",
    "                x = normalized_cont_data\n",
    "        # Batch normalization operation is done in this for loop\n",
    "        for lin_layer, dropout_layer, bn_layer in zip( \n",
    "            self.lin_layers, self.droput_layers, self.bn_layers\n",
    "        ):\n",
    "\n",
    "            x = F.relu(lin_layer(x))\n",
    "#             x = F.sigmoid(lin_layer(x))\n",
    "            x = bn_layer(x)\n",
    "            x = dropout_layer(x)\n",
    "\n",
    "        x = self.output_layer(x)\n",
    "\n",
    "        return x # Returns the output of the network"
   ]
  },
  {
   "cell_type": "code",
   "execution_count": 4,
   "metadata": {},
   "outputs": [],
   "source": [
    "cat_dims = [2]* 57\n",
    "emb_dims = [(x, min(50, (x + 1) // 2)) for x in cat_dims]"
   ]
  },
  {
   "cell_type": "code",
   "execution_count": 5,
   "metadata": {},
   "outputs": [
    {
     "data": {
      "text/plain": [
       "<All keys matched successfully>"
      ]
     },
     "execution_count": 5,
     "metadata": {},
     "output_type": "execute_result"
    }
   ],
   "source": [
    "device = torch.device('cpu')\n",
    "model = FeedForwardNN(emb_dims, no_of_cont=3, lin_layer_sizes=[256,256,256], output_size=1, emb_dropout=0.2, lin_layer_dropouts=[0.2, 0.2, 0.2]).to(device)\n",
    "      \n",
    "model.load_state_dict(torch.load('NN_model.pt', map_location=device))"
   ]
  },
  {
   "cell_type": "markdown",
   "metadata": {},
   "source": [
    "# Data loading and preprocessing"
   ]
  },
  {
   "cell_type": "code",
   "execution_count": 6,
   "metadata": {},
   "outputs": [],
   "source": [
    "# The data is read as a pandas data frame\n",
    "data = pd.read_csv(\"finalized_data.csv\").dropna()"
   ]
  },
  {
   "cell_type": "code",
   "execution_count": 7,
   "metadata": {},
   "outputs": [
    {
     "data": {
      "text/plain": [
       "Index(['0', '1', '2', '3', '4', '5', '6', '7', '8', '9', '10', '11', '12'], dtype='object')"
      ]
     },
     "execution_count": 7,
     "metadata": {},
     "output_type": "execute_result"
    }
   ],
   "source": [
    "data.columns"
   ]
  },
  {
   "cell_type": "code",
   "execution_count": 11,
   "metadata": {},
   "outputs": [],
   "source": [
    "_input = [12.0,\n",
    "1,\n",
    "2,\n",
    "1,\n",
    "2,\n",
    "9.0,\n",
    "1,\n",
    "0.0,\n",
    "10.0,\n",
    "{-60.6, -45.0, 3.6},\n",
    "{-60.6, -45.0, 2.8},\n",
    "{-60.6, -45.0, 2.0},\n",
    "{-60.6, -45.0, 1.2},\n",
    "{-60.6, -45.0, 0.4},\n",
    "{-59.8, -45.0, 3.6},\n",
    "{-59.8, -45.0, 2.8},\n",
    "{-59.8, -45.0, 2.0},\n",
    "{-59.8, -45.0, 1.2},\n",
    "{-59.8, -45.0, 0.4},\n",
    "{-59.0, -45.0, 3.6},\n",
    "{-59.0, -45.0, 2.8},\n",
    "{-59.0, -45.0, 2.0},\n",
    "{-59.0, -45.0, 1.2},\n",
    "{-59.0, -45.0, 0.4},\n",
    "{-58.2, -45.0, 3.6},\n",
    "{-58.2, -45.0, 2.8},\n",
    "{-58.2, -45.0, 2.0},\n",
    "{-58.2, -45.0, 1.2},\n",
    "{-58.2, -45.0, 0.4},\n",
    "{-57.4, -45.0, 3.6},\n",
    "{-57.4, -45.0, 2.8},\n",
    "{-57.4, -45.0, 2.0},\n",
    "{-57.4, -45.0, 1.2},\n",
    "{-57.4, -45.0, 0.4}]\n"
   ]
  },
  {
   "cell_type": "code",
   "execution_count": 12,
   "metadata": {},
   "outputs": [],
   "source": [
    "test_data=np.zeros((25,13))\n",
    "tmp = np.tile(_input[0],(25)) \n",
    "test_data[:,0] = tmp\n",
    "tmp = np.tile(_input[1],(25))\n",
    "test_data[:,1] = tmp\n",
    "tmp = np.tile(_input[2],(25))\n",
    "test_data[:,2] = tmp\n",
    "tmp = np.tile(_input[3],(25))\n",
    "test_data[:,3] = tmp\n",
    "tmp = np.tile(_input[4],(25))\n",
    "test_data[:,4] = tmp\n",
    "tmp = np.tile(_input[5],(25))\n",
    "test_data[:,5] = tmp\n",
    "tmp = np.tile(_input[6],(25))\n",
    "test_data[:,6] = tmp\n",
    "tmp = np.tile(_input[7],(25))\n",
    "test_data[:,7] = tmp\n",
    "tmp = np.tile(_input[8],(25))\n",
    "test_data[:,8] = tmp\n",
    "\n",
    "for i in range(9,34):\n",
    "    tmp =list(_input[i]) \n",
    "    tmp = np.asarray(tmp)\n",
    "    tmp = np.reshape(tmp,(1,tmp.shape[0]))\n",
    "    test_data[i-9,9:12] = tmp\n",
    " \n",
    " "
   ]
  },
  {
   "cell_type": "code",
   "execution_count": 13,
   "metadata": {},
   "outputs": [
    {
     "data": {
      "text/plain": [
       "Index(['0', '1', '2', '3', '4', '5', '6', '7', '8', '9', '10', '11', '12'], dtype='object')"
      ]
     },
     "execution_count": 13,
     "metadata": {},
     "output_type": "execute_result"
    }
   ],
   "source": [
    "test_data = pd.DataFrame(test_data, columns=[str(i) for i in range(13)])\n",
    "test_data.columns"
   ]
  },
  {
   "cell_type": "code",
   "execution_count": 14,
   "metadata": {},
   "outputs": [],
   "source": [
    "dat = test_data.values\n",
    "new_dat = np.zeros((test_data.shape[0], test_data.shape[1]))\n",
    "\n",
    "cur = dat[0,:] \n",
    "D = data[data['0'] == int(cur[0])]\n",
    "if D.shape[0]!=0:\n",
    "     \n",
    "    D = D[D['1'] == cur[1]]\n",
    "    if D.shape[0]==0:\n",
    "        print(\"No matching found for B00\")\n",
    "        \n",
    "    D = D[D['2'] == cur[2]]\n",
    "    if D.shape[0]==0:\n",
    "        print(\"No matching found for B01\")\n",
    "        \n",
    "    D = D[D['3'] == cur[3]]\n",
    "    if D.shape[0]==0:\n",
    "        print(\"No matching found for B02\")\n",
    "        \n",
    "    D = D[D['4'] == cur[4]]\n",
    "    if D.shape[0]==0:\n",
    "        print(\"No matching found for B03\")\n",
    "        \n",
    "    D = D[D['5'] == cur[5]]\n",
    "    if D.shape[0]==0:\n",
    "        print(\"No matching found for Months\")\n",
    "        \n",
    "    D = D[D['6'] == cur[6]]\n",
    "    if D.shape[0]==0:\n",
    "        print(\"No matching found for Facade floor level\")\n",
    "        \n",
    "    D = D[D['7'] == cur[7]]\n",
    "    if D.shape[0]==0:\n",
    "        print(\"No matching found for Orientation\")\n",
    "        \n",
    "    D = D[D['8'] == cur[8]]\n",
    "    if D.shape[0]==0:\n",
    "        print(\"No matching found for Facade  level height\")\n",
    "        \n",
    "    \n",
    "D = D.values\n",
    " \n",
    "test_data.iloc[:,9:12] = D[:,9:12]\n",
    "                \n",
    "\n",
    "    "
   ]
  },
  {
   "cell_type": "code",
   "execution_count": 15,
   "metadata": {},
   "outputs": [
    {
     "name": "stdout",
     "output_type": "stream",
     "text": [
      "0\n",
      "1\n",
      "2\n",
      "3\n",
      "4\n",
      "5\n",
      "6\n",
      "7\n",
      "8\n"
     ]
    }
   ],
   "source": [
    "# Array that specifies which columns are categorical inputs\n",
    "categorical_features = [\"0\", \"1\", \"2\", \"3\", \"4\",\"5\", \"6\", \"7\", \"8\"] # Except column \"7\", all are label encoded and \"7\" is \n",
    "                                                               # one-hot encoded. \n",
    "# Array that specifies which columns are continuous inputs\n",
    "contnuous_features = [\"9\",\"10\",\"11\"]\n",
    "output_feature = \"12\"  # specifies which column is output\n",
    "\n",
    "\n",
    "temp={}\n",
    "label_encoders = {} \n",
    "# for loop starts for label encoding\n",
    "for i in range(0,len(categorical_features)):\n",
    "    print(i)\n",
    "    #codes for one-hot encoding\n",
    "    label_encoders[categorical_features[i]] = OneHotEncoder(handle_unknown='ignore')\n",
    "    label_encoders[categorical_features[i]].fit(data[categorical_features[i]].values.reshape(-1,1))\n",
    "    temp[categorical_features[i]]=label_encoders[categorical_features[i]].transform(test_data[categorical_features[i]].values.reshape(-1,1)).toarray() \n"
   ]
  },
  {
   "cell_type": "code",
   "execution_count": 16,
   "metadata": {},
   "outputs": [],
   "source": [
    "ind=13\n",
    "new_categorical_features=[]\n",
    "for i in range(0,len(categorical_features)):\n",
    "    for j in range(0,temp[categorical_features[i]].shape[1]):\n",
    "        test_data[str(ind)] = temp[categorical_features[i]][:,j]\n",
    "        new_categorical_features.append(str(ind)) # Stroing the column identity of newly added one-hot encoded columns as \n",
    "                                                  # categorical input.\n",
    "        ind=ind+1\n",
    "    test_data=test_data.drop([categorical_features[i]], axis=1) # The old column is deleted from the data"
   ]
  },
  {
   "cell_type": "code",
   "execution_count": 17,
   "metadata": {},
   "outputs": [
    {
     "data": {
      "text/plain": [
       "(25, 61)"
      ]
     },
     "execution_count": 17,
     "metadata": {},
     "output_type": "execute_result"
    }
   ],
   "source": [
    "test_data.shape"
   ]
  },
  {
   "cell_type": "code",
   "execution_count": 18,
   "metadata": {},
   "outputs": [],
   "source": [
    "test_columns=[]\n",
    "for i in range(0,test_data.shape[1]):\n",
    "    test_columns.append(str(i))\n",
    "    \n",
    "test_data.columns = test_columns\n",
    "new_categorical_features=test_columns[4:] \n",
    "output_feature=test_columns[3] \n",
    "testdataset = TabularDataset(data=test_data, cat_cols=new_categorical_features,\n",
    "                             output_col=output_feature)\n",
    "batchsize_test=25\n",
    "testdataloader = DataLoader(testdataset, batchsize_test, shuffle=False, num_workers=0, drop_last=False)"
   ]
  },
  {
   "cell_type": "code",
   "execution_count": 19,
   "metadata": {},
   "outputs": [],
   "source": [
    "predicted=np.zeros((0,1))  # Variable to store neural network prediction\n",
    "for y, cont_x, cat_x in testdataloader:\n",
    "        cat_x = cat_x.to(device)\n",
    "        cont_x = cont_x.to(device)\n",
    "#         y  = y.to(device)\n",
    "        preds = model(cont_x, cat_x)\n",
    "        preds=preds.cpu()\n",
    "        predicted = np.concatenate((predicted, preds.detach().numpy()),axis=0)\n",
    "        \n",
    "# actual = test['5'].values # Variable storing the actual values of the testing cases\n",
    "# actual=actual.reshape(actual.shape[0],1) # Reshaping for visualization \n",
    "# result=np.concatenate((actual, predicted),axis=1) # Actual value and predicted value is stored in \"result\" variable.\n",
    "    \n",
    "# print(\"Error MEasures:\")\n",
    "# MSE = mean_squared_error(actual, predicted)\n",
    "# MAE = mean_absolute_error(actual, predicted)\n",
    "     \n",
    "# R2 = r2_score(actual, predicted)\n",
    "# print(MSE)\n",
    "# print(MAE)\n",
    "   \n",
    "# print(R2)\n",
    "\n",
    "output_ = predicted \n",
    "    "
   ]
  },
  {
   "cell_type": "code",
   "execution_count": 20,
   "metadata": {},
   "outputs": [
    {
     "name": "stdout",
     "output_type": "stream",
     "text": [
      "Heatmap Actual and Heatmap predicted\n"
     ]
    },
    {
     "data": {
      "text/plain": [
       "<matplotlib.axes._subplots.AxesSubplot at 0x1f70befd6a0>"
      ]
     },
     "execution_count": 20,
     "metadata": {},
     "output_type": "execute_result"
    },
    {
     "data": {
      "image/png": "[encoded data removed]",
      "text/plain": [
       "<Figure size 720x576 with 2 Axes>"
      ]
     },
     "metadata": {
      "needs_background": "light"
     },
     "output_type": "display_data"
    }
   ],
   "source": [
    "%matplotlib inline\n",
    "predctd = np.reshape(output_,(5,5))\n",
    "\n",
    "\n",
    "print(\"Heatmap Actual and Heatmap predicted\")\n",
    "plt.figure(figsize=(10,8))\n",
    "plt.title('Heatmap')\n",
    "# plt.subplot(111)\n",
    "sb.heatmap(predctd, vmin = 0, vmax = 1.30141, cmap=\"OrRd_r\", annot=True)"
   ]
  },
  {
   "cell_type": "code",
   "execution_count": null,
   "metadata": {},
   "outputs": [],
   "source": []
  }
 ],
 "metadata": {
  "kernelspec": {
   "display_name": "Python 3",
   "language": "python",
   "name": "python3"
  },
  "language_info": {
   "codemirror_mode": {
    "name": "ipython",
    "version": 3
   },
   "file_extension": ".py",
   "mimetype": "text/x-python",
   "name": "python",
   "nbconvert_exporter": "python",
   "pygments_lexer": "ipython3",
   "version": "3.8.3"
  }
 },
 "nbformat": 4,
 "nbformat_minor": 2
}
