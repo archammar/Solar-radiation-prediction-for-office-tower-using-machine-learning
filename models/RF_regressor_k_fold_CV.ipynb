{
 "cells": [
  {
   "cell_type": "markdown",
   "metadata": {},
   "source": [
    "# Importing the required python libraries"
   ]
  },
  {
   "cell_type": "code",
   "execution_count": 1,
   "metadata": {},
   "outputs": [],
   "source": [
    "# import numpy package for arrays and stuff \n",
    "import numpy as np  \n",
    "import csv\n",
    "# import matplotlib.pyplot for plotting our result \n",
    "import matplotlib.pyplot as plt \n",
    "import seaborn as sb # used to plot the heatmap\n",
    "# import pandas for importing csv files and data fromatting\n",
    "import pandas as pd  \n",
    "import pickle\n",
    "# import the regressor \n",
    "from sklearn.tree import DecisionTreeRegressor  \n",
    "from sklearn.ensemble import RandomForestRegressor\n",
    "from sklearn.metrics import mean_squared_error, mean_absolute_error, r2_score\n",
    "from sklearn.model_selection import train_test_split # used to split the data into training set (70%) and testing set (30%)\n",
    "from sklearn.preprocessing import OneHotEncoder # Used to label encoding and one-hot encoding\n",
    "from sklearn.model_selection import KFold"
   ]
  },
  {
   "cell_type": "markdown",
   "metadata": {},
   "source": [
    "# Data loading and preprocessing\n",
    "\n",
    " \n"
   ]
  },
  {
   "cell_type": "code",
   "execution_count": 2,
   "metadata": {},
   "outputs": [],
   "source": [
    "# The data is read as a pandas data frame\n",
    "data = pd.read_csv(\"finalized_data.csv\").dropna()"
   ]
  },
  {
   "cell_type": "code",
   "execution_count": 3,
   "metadata": {},
   "outputs": [
    {
     "data": {
      "text/plain": [
       "Index(['0', '1', '2', '3', '4', '5', '6', '7', '8', '9', '10', '11', '12'], dtype='object')"
      ]
     },
     "execution_count": 3,
     "metadata": {},
     "output_type": "execute_result"
    }
   ],
   "source": [
    "data.columns"
   ]
  },
  {
   "cell_type": "markdown",
   "metadata": {},
   "source": [
    "### One-hot encoding of categorical features"
   ]
  },
  {
   "cell_type": "code",
   "execution_count": 4,
   "metadata": {},
   "outputs": [
    {
     "name": "stdout",
     "output_type": "stream",
     "text": [
      "0\n",
      "1\n",
      "2\n",
      "3\n",
      "4\n",
      "5\n",
      "6\n",
      "7\n",
      "8\n"
     ]
    }
   ],
   "source": [
    "# Array that specifies which columns are categorical inputs\n",
    "categorical_features = [\"0\", \"1\", \"2\", \"3\", \"4\",\"5\", \"6\", \"7\",\"8\"] # Except column \"7\", all are label encoded and \"7\" is \n",
    "                                                               # one-hot encoded. \n",
    "# categorical_features = [\"0\", \"1\", \"2\", \"3\", \"4\",\"5\", \"6\", \"7\",\"8\"] # Except column \"7\", all are label encoded and \"7\" is \n",
    "                                                               # one-hot encoded. \n",
    "# Array that specifies which columns are continuous inputs\n",
    "# contnuous_features = [\"9\",\"10\",\"11\"]\n",
    "output_feature = \"12\"  # specifies which column is output\n",
    "\n",
    "\n",
    "temp={}\n",
    "label_encoders = {} \n",
    "# for loop starts for label encoding\n",
    "for i in range(0,len(categorical_features)):\n",
    "    print(i)\n",
    "    #codes for one-hot encoding\n",
    "    label_encoders[categorical_features[i]] = OneHotEncoder(handle_unknown='ignore')\n",
    "    label_encoders[categorical_features[i]].fit(data[categorical_features[i]].values.reshape(-1,1))\n",
    "    temp[categorical_features[i]]=label_encoders[categorical_features[i]].transform(data[categorical_features[i]].values.reshape(-1,1)).toarray() \n",
    "    "
   ]
  },
  {
   "cell_type": "code",
   "execution_count": 5,
   "metadata": {},
   "outputs": [
    {
     "name": "stdout",
     "output_type": "stream",
     "text": [
      "(1263600, 13)\n",
      "(1263600, 3)\n",
      "(1263600, 3)\n",
      "(1263600, 3)\n",
      "(1263600, 3)\n",
      "(1263600, 4)\n",
      "(1263600, 3)\n",
      "(1263600, 4)\n",
      "(1263600, 21)\n"
     ]
    }
   ],
   "source": [
    "#printing the dimensions of each categorical variables after one-hot encoding\n",
    "for i in range(0,len(temp)):\n",
    "    print(temp[categorical_features[i]].shape)"
   ]
  },
  {
   "cell_type": "code",
   "execution_count": 6,
   "metadata": {},
   "outputs": [],
   "source": [
    "# Adding the one hot encoded features into the data\n",
    "# The new columns will be named from 13 onwards.\n",
    "ind=13\n",
    "for i in range(0,len(categorical_features)):\n",
    "    for j in range(0,temp[categorical_features[i]].shape[1]):\n",
    "        data[str(ind)] = temp[categorical_features[i]][:,j]\n",
    "        ind=ind+1\n",
    "    data=data.drop([categorical_features[i]], axis=1) # The old column is deleted from the data\n",
    "      \n",
    "    "
   ]
  },
  {
   "cell_type": "code",
   "execution_count": 7,
   "metadata": {},
   "outputs": [
    {
     "name": "stdout",
     "output_type": "stream",
     "text": [
      "                 9         10         11        12   13   14   15   16   17  \\\n",
      "0        -1.000000 -13.016747   6.399998  0.010556  1.0  0.0  0.0  0.0  0.0   \n",
      "1        -1.000000 -13.016747   7.199998  0.011241  1.0  0.0  0.0  0.0  0.0   \n",
      "2        -1.000000 -13.016747   7.999998  0.012185  1.0  0.0  0.0  0.0  0.0   \n",
      "3        -1.000000 -13.016747   8.799997  0.013634  1.0  0.0  0.0  0.0  0.0   \n",
      "4        -1.000000 -13.016747   9.599998  0.014240  1.0  0.0  0.0  0.0  0.0   \n",
      "...            ...        ...        ...       ...  ...  ...  ...  ...  ...   \n",
      "1263595  12.283293  -3.000003  66.399963  0.000000  0.0  0.0  0.0  0.0  0.0   \n",
      "1263596  12.283293  -3.000003  67.199959  0.000000  0.0  0.0  0.0  0.0  0.0   \n",
      "1263597  12.283293  -3.000003  67.999962  0.000000  0.0  0.0  0.0  0.0  0.0   \n",
      "1263598  12.283293  -3.000003  68.799957  0.000000  0.0  0.0  0.0  0.0  0.0   \n",
      "1263599  12.283293  -3.000003  69.599960  0.000000  0.0  0.0  0.0  0.0  0.0   \n",
      "\n",
      "          18  ...   60   61   62   63   64   65   66   67   68   69  \n",
      "0        0.0  ...  0.0  0.0  0.0  0.0  0.0  0.0  0.0  0.0  0.0  0.0  \n",
      "1        0.0  ...  0.0  0.0  0.0  0.0  0.0  0.0  0.0  0.0  0.0  0.0  \n",
      "2        0.0  ...  0.0  0.0  0.0  0.0  0.0  0.0  0.0  0.0  0.0  0.0  \n",
      "3        0.0  ...  0.0  0.0  0.0  0.0  0.0  0.0  0.0  0.0  0.0  0.0  \n",
      "4        0.0  ...  0.0  0.0  0.0  0.0  0.0  0.0  0.0  0.0  0.0  0.0  \n",
      "...      ...  ...  ...  ...  ...  ...  ...  ...  ...  ...  ...  ...  \n",
      "1263595  0.0  ...  0.0  0.0  0.0  0.0  0.0  0.0  0.0  0.0  0.0  1.0  \n",
      "1263596  0.0  ...  0.0  0.0  0.0  0.0  0.0  0.0  0.0  0.0  0.0  1.0  \n",
      "1263597  0.0  ...  0.0  0.0  0.0  0.0  0.0  0.0  0.0  0.0  0.0  1.0  \n",
      "1263598  0.0  ...  0.0  0.0  0.0  0.0  0.0  0.0  0.0  0.0  0.0  1.0  \n",
      "1263599  0.0  ...  0.0  0.0  0.0  0.0  0.0  0.0  0.0  0.0  0.0  1.0  \n",
      "\n",
      "[1263600 rows x 61 columns]\n",
      "(1263600, 61)\n"
     ]
    }
   ],
   "source": [
    "print(data) # Data after one-hot encoding.\n",
    "print(data.shape)     # New dimension of the data. "
   ]
  },
  {
   "cell_type": "markdown",
   "metadata": {},
   "source": [
    "# Modeling with Decision Tree for Regression"
   ]
  },
  {
   "cell_type": "code",
   "execution_count": 8,
   "metadata": {},
   "outputs": [
    {
     "name": "stdout",
     "output_type": "stream",
     "text": [
      "The input data....\n",
      "(1263600, 61)\n"
     ]
    }
   ],
   "source": [
    "# Variable X will seperate the input variables from data\n",
    "X = data.values # First 11 columns are taken \n",
    "# X=np.concatenate((X,data.iloc[:, 4:].values),axis=1) # \"or1\",\"or2,\"or3\" and \"or4\" are appended to first 11 columns\n",
    "# y = data.iloc[:, 3].values # output column is stored into variable y\n",
    "print(\"The input data....\")\n",
    "# print(X[:,0:5])\n",
    "print(X.shape)\n",
    "# print(\"The output data\")\n",
    "# print(y)\n",
    "# print(y.shape)"
   ]
  },
  {
   "cell_type": "code",
   "execution_count": 9,
   "metadata": {},
   "outputs": [],
   "source": [
    "filename = 'index.csv'\n",
    "raw_data = open(filename, 'rt')\n",
    "reader = csv.reader(raw_data, delimiter=',', quoting=csv.QUOTE_NONE)\n",
    "x = list(reader)\n",
    "index = np.array(x).astype('float')"
   ]
  },
  {
   "cell_type": "code",
   "execution_count": 10,
   "metadata": {
    "scrolled": false
   },
   "outputs": [
    {
     "name": "stdout",
     "output_type": "stream",
     "text": [
      "(1010875, 61)\n",
      "(1010875, 61)\n"
     ]
    }
   ],
   "source": [
    "# THis cell is to shuffle keeping the set of 25 coordinates\n",
    "instances=X.shape[0]/25\n",
    "# index = np.random.permutation(int(instances))\n",
    "train=np.zeros((int(np.floor(0.8*instances))*25, X.shape[1]))\n",
    "print(train.shape)\n",
    "# train_y=np.zeros((int(np.floor(0.8*instances))*25,))\n",
    "\n",
    "for i in range(int(np.floor(0.8*instances))):\n",
    "    t1=i*25\n",
    "    t2=int(index[i]*25)\n",
    "    train[t1:t1+25,:] = X[t2:t2+25,:]\n",
    "#     train_y[t1:t1+25]=y[t2:t2+25,]\n",
    "\n",
    "print(train.shape)\n",
    "t4=int(instances)-int(np.floor(0.8*instances))\n",
    "test_org=np.zeros((t4*25, X.shape[1]))\n",
    "# test_y=np.zeros((t4*25,))\n",
    "t3=int(np.floor(0.8*instances))\n",
    "\n",
    "for i in range(t4):\n",
    "    t1=i*25\n",
    "    t2=int(index[i+t3]*25)\n",
    "    test_org[t1:t1+25,:] = X[t2:t2+25,:]\n",
    "#     test_y[t1:t1+25]=y[t2:t2+25]\n",
    "\n",
    "    \n",
    "    "
   ]
  },
  {
   "cell_type": "code",
   "execution_count": 11,
   "metadata": {},
   "outputs": [],
   "source": [
    "# Shuffling the training set alone\n",
    "train_permuted=np.zeros((train.shape[0], train.shape[1]))\n",
    "# train_y_permuted=np.zeros((train.shape[0],))\n",
    "instances=train.shape[0]\n",
    "index1 = np.random.permutation(int(instances))\n",
    "for i in range(instances):\n",
    "    train_permuted[i,:]=train[index1[i],:]\n",
    "#     train_y_permuted[i]=train_y[index1[i]]\n",
    "    "
   ]
  },
  {
   "cell_type": "code",
   "execution_count": 12,
   "metadata": {},
   "outputs": [
    {
     "name": "stdout",
     "output_type": "stream",
     "text": [
      "TRAIN: [ 202175  202176  202177 ... 1010872 1010873 1010874] TEST: [     0      1      2 ... 202172 202173 202174]\n",
      "0 0\n",
      "TRAIN: [      0       1       2 ... 1010872 1010873 1010874] TEST: [202175 202176 202177 ... 404347 404348 404349]\n",
      "0 1\n",
      "TRAIN: [      0       1       2 ... 1010872 1010873 1010874] TEST: [404350 404351 404352 ... 606522 606523 606524]\n",
      "0 2\n",
      "TRAIN: [      0       1       2 ... 1010872 1010873 1010874] TEST: [606525 606526 606527 ... 808697 808698 808699]\n",
      "0 3\n",
      "TRAIN: [     0      1      2 ... 808697 808698 808699] TEST: [ 808700  808701  808702 ... 1010872 1010873 1010874]\n",
      "0 4\n",
      "TRAIN: [ 202175  202176  202177 ... 1010872 1010873 1010874] TEST: [     0      1      2 ... 202172 202173 202174]\n",
      "1 0\n",
      "TRAIN: [      0       1       2 ... 1010872 1010873 1010874] TEST: [202175 202176 202177 ... 404347 404348 404349]\n",
      "1 1\n",
      "TRAIN: [      0       1       2 ... 1010872 1010873 1010874] TEST: [404350 404351 404352 ... 606522 606523 606524]\n",
      "1 2\n",
      "TRAIN: [      0       1       2 ... 1010872 1010873 1010874] TEST: [606525 606526 606527 ... 808697 808698 808699]\n",
      "1 3\n",
      "TRAIN: [     0      1      2 ... 808697 808698 808699] TEST: [ 808700  808701  808702 ... 1010872 1010873 1010874]\n",
      "1 4\n",
      "TRAIN: [ 202175  202176  202177 ... 1010872 1010873 1010874] TEST: [     0      1      2 ... 202172 202173 202174]\n",
      "2 0\n",
      "TRAIN: [      0       1       2 ... 1010872 1010873 1010874] TEST: [202175 202176 202177 ... 404347 404348 404349]\n",
      "2 1\n",
      "TRAIN: [      0       1       2 ... 1010872 1010873 1010874] TEST: [404350 404351 404352 ... 606522 606523 606524]\n",
      "2 2\n",
      "TRAIN: [      0       1       2 ... 1010872 1010873 1010874] TEST: [606525 606526 606527 ... 808697 808698 808699]\n",
      "2 3\n",
      "TRAIN: [     0      1      2 ... 808697 808698 808699] TEST: [ 808700  808701  808702 ... 1010872 1010873 1010874]\n",
      "2 4\n",
      "TRAIN: [ 202175  202176  202177 ... 1010872 1010873 1010874] TEST: [     0      1      2 ... 202172 202173 202174]\n",
      "3 0\n",
      "TRAIN: [      0       1       2 ... 1010872 1010873 1010874] TEST: [202175 202176 202177 ... 404347 404348 404349]\n",
      "3 1\n",
      "TRAIN: [      0       1       2 ... 1010872 1010873 1010874] TEST: [404350 404351 404352 ... 606522 606523 606524]\n",
      "3 2\n",
      "TRAIN: [      0       1       2 ... 1010872 1010873 1010874] TEST: [606525 606526 606527 ... 808697 808698 808699]\n",
      "3 3\n",
      "TRAIN: [     0      1      2 ... 808697 808698 808699] TEST: [ 808700  808701  808702 ... 1010872 1010873 1010874]\n",
      "3 4\n",
      "TRAIN: [ 202175  202176  202177 ... 1010872 1010873 1010874] TEST: [     0      1      2 ... 202172 202173 202174]\n",
      "4 0\n",
      "TRAIN: [      0       1       2 ... 1010872 1010873 1010874] TEST: [202175 202176 202177 ... 404347 404348 404349]\n",
      "4 1\n",
      "TRAIN: [      0       1       2 ... 1010872 1010873 1010874] TEST: [404350 404351 404352 ... 606522 606523 606524]\n",
      "4 2\n",
      "TRAIN: [      0       1       2 ... 1010872 1010873 1010874] TEST: [606525 606526 606527 ... 808697 808698 808699]\n",
      "4 3\n",
      "TRAIN: [     0      1      2 ... 808697 808698 808699] TEST: [ 808700  808701  808702 ... 1010872 1010873 1010874]\n",
      "4 4\n",
      "TRAIN: [ 202175  202176  202177 ... 1010872 1010873 1010874] TEST: [     0      1      2 ... 202172 202173 202174]\n",
      "5 0\n",
      "TRAIN: [      0       1       2 ... 1010872 1010873 1010874] TEST: [202175 202176 202177 ... 404347 404348 404349]\n",
      "5 1\n",
      "TRAIN: [      0       1       2 ... 1010872 1010873 1010874] TEST: [404350 404351 404352 ... 606522 606523 606524]\n",
      "5 2\n",
      "TRAIN: [      0       1       2 ... 1010872 1010873 1010874] TEST: [606525 606526 606527 ... 808697 808698 808699]\n",
      "5 3\n",
      "TRAIN: [     0      1      2 ... 808697 808698 808699] TEST: [ 808700  808701  808702 ... 1010872 1010873 1010874]\n",
      "5 4\n",
      "TRAIN: [ 202175  202176  202177 ... 1010872 1010873 1010874] TEST: [     0      1      2 ... 202172 202173 202174]\n",
      "6 0\n",
      "TRAIN: [      0       1       2 ... 1010872 1010873 1010874] TEST: [202175 202176 202177 ... 404347 404348 404349]\n",
      "6 1\n",
      "TRAIN: [      0       1       2 ... 1010872 1010873 1010874] TEST: [404350 404351 404352 ... 606522 606523 606524]\n",
      "6 2\n",
      "TRAIN: [      0       1       2 ... 1010872 1010873 1010874] TEST: [606525 606526 606527 ... 808697 808698 808699]\n",
      "6 3\n",
      "TRAIN: [     0      1      2 ... 808697 808698 808699] TEST: [ 808700  808701  808702 ... 1010872 1010873 1010874]\n",
      "6 4\n",
      "TRAIN: [ 202175  202176  202177 ... 1010872 1010873 1010874] TEST: [     0      1      2 ... 202172 202173 202174]\n",
      "7 0\n",
      "TRAIN: [      0       1       2 ... 1010872 1010873 1010874] TEST: [202175 202176 202177 ... 404347 404348 404349]\n",
      "7 1\n",
      "TRAIN: [      0       1       2 ... 1010872 1010873 1010874] TEST: [404350 404351 404352 ... 606522 606523 606524]\n",
      "7 2\n",
      "TRAIN: [      0       1       2 ... 1010872 1010873 1010874] TEST: [606525 606526 606527 ... 808697 808698 808699]\n",
      "7 3\n",
      "TRAIN: [     0      1      2 ... 808697 808698 808699] TEST: [ 808700  808701  808702 ... 1010872 1010873 1010874]\n",
      "7 4\n",
      "TRAIN: [ 202175  202176  202177 ... 1010872 1010873 1010874] TEST: [     0      1      2 ... 202172 202173 202174]\n",
      "8 0\n",
      "TRAIN: [      0       1       2 ... 1010872 1010873 1010874] TEST: [202175 202176 202177 ... 404347 404348 404349]\n",
      "8 1\n",
      "TRAIN: [      0       1       2 ... 1010872 1010873 1010874] TEST: [404350 404351 404352 ... 606522 606523 606524]\n",
      "8 2\n",
      "TRAIN: [      0       1       2 ... 1010872 1010873 1010874] TEST: [606525 606526 606527 ... 808697 808698 808699]\n",
      "8 3\n",
      "TRAIN: [     0      1      2 ... 808697 808698 808699] TEST: [ 808700  808701  808702 ... 1010872 1010873 1010874]\n",
      "8 4\n",
      "TRAIN: [ 202175  202176  202177 ... 1010872 1010873 1010874] TEST: [     0      1      2 ... 202172 202173 202174]\n",
      "9 0\n",
      "TRAIN: [      0       1       2 ... 1010872 1010873 1010874] TEST: [202175 202176 202177 ... 404347 404348 404349]\n",
      "9 1\n",
      "TRAIN: [      0       1       2 ... 1010872 1010873 1010874] TEST: [404350 404351 404352 ... 606522 606523 606524]\n",
      "9 2\n",
      "TRAIN: [      0       1       2 ... 1010872 1010873 1010874] TEST: [606525 606526 606527 ... 808697 808698 808699]\n",
      "9 3\n",
      "TRAIN: [     0      1      2 ... 808697 808698 808699] TEST: [ 808700  808701  808702 ... 1010872 1010873 1010874]\n",
      "9 4\n",
      "TRAIN: [ 202175  202176  202177 ... 1010872 1010873 1010874] TEST: [     0      1      2 ... 202172 202173 202174]\n",
      "10 0\n",
      "TRAIN: [      0       1       2 ... 1010872 1010873 1010874] TEST: [202175 202176 202177 ... 404347 404348 404349]\n",
      "10 1\n",
      "TRAIN: [      0       1       2 ... 1010872 1010873 1010874] TEST: [404350 404351 404352 ... 606522 606523 606524]\n",
      "10 2\n",
      "TRAIN: [      0       1       2 ... 1010872 1010873 1010874] TEST: [606525 606526 606527 ... 808697 808698 808699]\n",
      "10 3\n",
      "TRAIN: [     0      1      2 ... 808697 808698 808699] TEST: [ 808700  808701  808702 ... 1010872 1010873 1010874]\n",
      "10 4\n",
      "TRAIN: [ 202175  202176  202177 ... 1010872 1010873 1010874] TEST: [     0      1      2 ... 202172 202173 202174]\n",
      "11 0\n",
      "TRAIN: [      0       1       2 ... 1010872 1010873 1010874] TEST: [202175 202176 202177 ... 404347 404348 404349]\n",
      "11 1\n",
      "TRAIN: [      0       1       2 ... 1010872 1010873 1010874] TEST: [404350 404351 404352 ... 606522 606523 606524]\n",
      "11 2\n",
      "TRAIN: [      0       1       2 ... 1010872 1010873 1010874] TEST: [606525 606526 606527 ... 808697 808698 808699]\n",
      "11 3\n",
      "TRAIN: [     0      1      2 ... 808697 808698 808699] TEST: [ 808700  808701  808702 ... 1010872 1010873 1010874]\n",
      "11 4\n",
      "TRAIN: [ 202175  202176  202177 ... 1010872 1010873 1010874] TEST: [     0      1      2 ... 202172 202173 202174]\n",
      "12 0\n",
      "TRAIN: [      0       1       2 ... 1010872 1010873 1010874] TEST: [202175 202176 202177 ... 404347 404348 404349]\n",
      "12 1\n",
      "TRAIN: [      0       1       2 ... 1010872 1010873 1010874] TEST: [404350 404351 404352 ... 606522 606523 606524]\n",
      "12 2\n",
      "TRAIN: [      0       1       2 ... 1010872 1010873 1010874] TEST: [606525 606526 606527 ... 808697 808698 808699]\n",
      "12 3\n",
      "TRAIN: [     0      1      2 ... 808697 808698 808699] TEST: [ 808700  808701  808702 ... 1010872 1010873 1010874]\n",
      "12 4\n",
      "TRAIN: [ 202175  202176  202177 ... 1010872 1010873 1010874] TEST: [     0      1      2 ... 202172 202173 202174]\n",
      "13 0\n",
      "TRAIN: [      0       1       2 ... 1010872 1010873 1010874] TEST: [202175 202176 202177 ... 404347 404348 404349]\n",
      "13 1\n",
      "TRAIN: [      0       1       2 ... 1010872 1010873 1010874] TEST: [404350 404351 404352 ... 606522 606523 606524]\n",
      "13 2\n",
      "TRAIN: [      0       1       2 ... 1010872 1010873 1010874] TEST: [606525 606526 606527 ... 808697 808698 808699]\n"
     ]
    },
    {
     "name": "stdout",
     "output_type": "stream",
     "text": [
      "13 3\n",
      "TRAIN: [     0      1      2 ... 808697 808698 808699] TEST: [ 808700  808701  808702 ... 1010872 1010873 1010874]\n",
      "13 4\n",
      "TRAIN: [ 202175  202176  202177 ... 1010872 1010873 1010874] TEST: [     0      1      2 ... 202172 202173 202174]\n",
      "14 0\n",
      "TRAIN: [      0       1       2 ... 1010872 1010873 1010874] TEST: [202175 202176 202177 ... 404347 404348 404349]\n",
      "14 1\n",
      "TRAIN: [      0       1       2 ... 1010872 1010873 1010874] TEST: [404350 404351 404352 ... 606522 606523 606524]\n",
      "14 2\n",
      "TRAIN: [      0       1       2 ... 1010872 1010873 1010874] TEST: [606525 606526 606527 ... 808697 808698 808699]\n",
      "14 3\n",
      "TRAIN: [     0      1      2 ... 808697 808698 808699] TEST: [ 808700  808701  808702 ... 1010872 1010873 1010874]\n",
      "14 4\n",
      "TRAIN: [ 202175  202176  202177 ... 1010872 1010873 1010874] TEST: [     0      1      2 ... 202172 202173 202174]\n",
      "15 0\n",
      "TRAIN: [      0       1       2 ... 1010872 1010873 1010874] TEST: [202175 202176 202177 ... 404347 404348 404349]\n",
      "15 1\n",
      "TRAIN: [      0       1       2 ... 1010872 1010873 1010874] TEST: [404350 404351 404352 ... 606522 606523 606524]\n",
      "15 2\n",
      "TRAIN: [      0       1       2 ... 1010872 1010873 1010874] TEST: [606525 606526 606527 ... 808697 808698 808699]\n",
      "15 3\n",
      "TRAIN: [     0      1      2 ... 808697 808698 808699] TEST: [ 808700  808701  808702 ... 1010872 1010873 1010874]\n",
      "15 4\n",
      "TRAIN: [ 202175  202176  202177 ... 1010872 1010873 1010874] TEST: [     0      1      2 ... 202172 202173 202174]\n",
      "16 0\n",
      "TRAIN: [      0       1       2 ... 1010872 1010873 1010874] TEST: [202175 202176 202177 ... 404347 404348 404349]\n",
      "16 1\n",
      "TRAIN: [      0       1       2 ... 1010872 1010873 1010874] TEST: [404350 404351 404352 ... 606522 606523 606524]\n",
      "16 2\n",
      "TRAIN: [      0       1       2 ... 1010872 1010873 1010874] TEST: [606525 606526 606527 ... 808697 808698 808699]\n",
      "16 3\n",
      "TRAIN: [     0      1      2 ... 808697 808698 808699] TEST: [ 808700  808701  808702 ... 1010872 1010873 1010874]\n",
      "16 4\n",
      "TRAIN: [ 202175  202176  202177 ... 1010872 1010873 1010874] TEST: [     0      1      2 ... 202172 202173 202174]\n",
      "17 0\n",
      "TRAIN: [      0       1       2 ... 1010872 1010873 1010874] TEST: [202175 202176 202177 ... 404347 404348 404349]\n",
      "17 1\n",
      "TRAIN: [      0       1       2 ... 1010872 1010873 1010874] TEST: [404350 404351 404352 ... 606522 606523 606524]\n",
      "17 2\n",
      "TRAIN: [      0       1       2 ... 1010872 1010873 1010874] TEST: [606525 606526 606527 ... 808697 808698 808699]\n",
      "17 3\n",
      "TRAIN: [     0      1      2 ... 808697 808698 808699] TEST: [ 808700  808701  808702 ... 1010872 1010873 1010874]\n",
      "17 4\n",
      "TRAIN: [ 202175  202176  202177 ... 1010872 1010873 1010874] TEST: [     0      1      2 ... 202172 202173 202174]\n",
      "18 0\n",
      "TRAIN: [      0       1       2 ... 1010872 1010873 1010874] TEST: [202175 202176 202177 ... 404347 404348 404349]\n",
      "18 1\n",
      "TRAIN: [      0       1       2 ... 1010872 1010873 1010874] TEST: [404350 404351 404352 ... 606522 606523 606524]\n",
      "18 2\n",
      "TRAIN: [      0       1       2 ... 1010872 1010873 1010874] TEST: [606525 606526 606527 ... 808697 808698 808699]\n",
      "18 3\n",
      "TRAIN: [     0      1      2 ... 808697 808698 808699] TEST: [ 808700  808701  808702 ... 1010872 1010873 1010874]\n",
      "18 4\n",
      "TRAIN: [ 202175  202176  202177 ... 1010872 1010873 1010874] TEST: [     0      1      2 ... 202172 202173 202174]\n",
      "19 0\n",
      "TRAIN: [      0       1       2 ... 1010872 1010873 1010874] TEST: [202175 202176 202177 ... 404347 404348 404349]\n",
      "19 1\n",
      "TRAIN: [      0       1       2 ... 1010872 1010873 1010874] TEST: [404350 404351 404352 ... 606522 606523 606524]\n",
      "19 2\n",
      "TRAIN: [      0       1       2 ... 1010872 1010873 1010874] TEST: [606525 606526 606527 ... 808697 808698 808699]\n",
      "19 3\n",
      "TRAIN: [     0      1      2 ... 808697 808698 808699] TEST: [ 808700  808701  808702 ... 1010872 1010873 1010874]\n",
      "19 4\n",
      "TRAIN: [ 202175  202176  202177 ... 1010872 1010873 1010874] TEST: [     0      1      2 ... 202172 202173 202174]\n",
      "20 0\n",
      "TRAIN: [      0       1       2 ... 1010872 1010873 1010874] TEST: [202175 202176 202177 ... 404347 404348 404349]\n",
      "20 1\n",
      "TRAIN: [      0       1       2 ... 1010872 1010873 1010874] TEST: [404350 404351 404352 ... 606522 606523 606524]\n",
      "20 2\n",
      "TRAIN: [      0       1       2 ... 1010872 1010873 1010874] TEST: [606525 606526 606527 ... 808697 808698 808699]\n",
      "20 3\n",
      "TRAIN: [     0      1      2 ... 808697 808698 808699] TEST: [ 808700  808701  808702 ... 1010872 1010873 1010874]\n",
      "20 4\n",
      "TRAIN: [ 202175  202176  202177 ... 1010872 1010873 1010874] TEST: [     0      1      2 ... 202172 202173 202174]\n",
      "21 0\n",
      "TRAIN: [      0       1       2 ... 1010872 1010873 1010874] TEST: [202175 202176 202177 ... 404347 404348 404349]\n",
      "21 1\n",
      "TRAIN: [      0       1       2 ... 1010872 1010873 1010874] TEST: [404350 404351 404352 ... 606522 606523 606524]\n",
      "21 2\n",
      "TRAIN: [      0       1       2 ... 1010872 1010873 1010874] TEST: [606525 606526 606527 ... 808697 808698 808699]\n"
     ]
    },
    {
     "ename": "KeyboardInterrupt",
     "evalue": "",
     "output_type": "error",
     "traceback": [
      "\u001b[1;31m---------------------------------------------------------------------------\u001b[0m",
      "\u001b[1;31mKeyboardInterrupt\u001b[0m                         Traceback (most recent call last)",
      "\u001b[1;32m<ipython-input-12-83fadeee99f3>\u001b[0m in \u001b[0;36m<module>\u001b[1;34m\u001b[0m\n\u001b[0;32m     27\u001b[0m \u001b[1;33m\u001b[0m\u001b[0m\n\u001b[0;32m     28\u001b[0m                 \u001b[0mregr\u001b[0m \u001b[1;33m=\u001b[0m \u001b[0mRandomForestRegressor\u001b[0m\u001b[1;33m(\u001b[0m\u001b[0mn_estimators\u001b[0m\u001b[1;33m=\u001b[0m\u001b[0mtree\u001b[0m\u001b[1;33m,\u001b[0m \u001b[0mbootstrap\u001b[0m \u001b[1;33m=\u001b[0m \u001b[0mbs\u001b[0m\u001b[1;33m,\u001b[0m \u001b[0mccp_alpha\u001b[0m \u001b[1;33m=\u001b[0m \u001b[0malpha\u001b[0m\u001b[1;33m)\u001b[0m\u001b[1;33m\u001b[0m\u001b[1;33m\u001b[0m\u001b[0m\n\u001b[1;32m---> 29\u001b[1;33m                 \u001b[0mregr\u001b[0m\u001b[1;33m.\u001b[0m\u001b[0mfit\u001b[0m\u001b[1;33m(\u001b[0m\u001b[0mtrain\u001b[0m\u001b[1;33m,\u001b[0m \u001b[0mtrain_y\u001b[0m\u001b[1;33m)\u001b[0m\u001b[1;33m\u001b[0m\u001b[1;33m\u001b[0m\u001b[0m\n\u001b[0m\u001b[0;32m     30\u001b[0m                 \u001b[0my_pred\u001b[0m \u001b[1;33m=\u001b[0m \u001b[0mregr\u001b[0m\u001b[1;33m.\u001b[0m\u001b[0mpredict\u001b[0m\u001b[1;33m(\u001b[0m\u001b[0mtest\u001b[0m\u001b[1;33m)\u001b[0m \u001b[1;31m# Prediction corresponding to the test set\u001b[0m\u001b[1;33m\u001b[0m\u001b[1;33m\u001b[0m\u001b[0m\n\u001b[0;32m     31\u001b[0m                 \u001b[0mprint\u001b[0m\u001b[1;33m(\u001b[0m\u001b[0mp\u001b[0m\u001b[1;33m,\u001b[0m\u001b[0mq\u001b[0m\u001b[1;33m)\u001b[0m\u001b[1;33m\u001b[0m\u001b[1;33m\u001b[0m\u001b[0m\n",
      "\u001b[1;32m~\\anaconda3\\lib\\site-packages\\sklearn\\ensemble\\_forest.py\u001b[0m in \u001b[0;36mfit\u001b[1;34m(self, X, y, sample_weight)\u001b[0m\n\u001b[0;32m    384\u001b[0m             \u001b[1;31m# parallel_backend contexts set at a higher level,\u001b[0m\u001b[1;33m\u001b[0m\u001b[1;33m\u001b[0m\u001b[1;33m\u001b[0m\u001b[0m\n\u001b[0;32m    385\u001b[0m             \u001b[1;31m# since correctness does not rely on using threads.\u001b[0m\u001b[1;33m\u001b[0m\u001b[1;33m\u001b[0m\u001b[1;33m\u001b[0m\u001b[0m\n\u001b[1;32m--> 386\u001b[1;33m             trees = Parallel(n_jobs=self.n_jobs, verbose=self.verbose,\n\u001b[0m\u001b[0;32m    387\u001b[0m                              \u001b[1;33m**\u001b[0m\u001b[0m_joblib_parallel_args\u001b[0m\u001b[1;33m(\u001b[0m\u001b[0mprefer\u001b[0m\u001b[1;33m=\u001b[0m\u001b[1;34m'threads'\u001b[0m\u001b[1;33m)\u001b[0m\u001b[1;33m)\u001b[0m\u001b[1;33m(\u001b[0m\u001b[1;33m\u001b[0m\u001b[1;33m\u001b[0m\u001b[0m\n\u001b[0;32m    388\u001b[0m                 delayed(_parallel_build_trees)(\n",
      "\u001b[1;32m~\\anaconda3\\lib\\site-packages\\joblib\\parallel.py\u001b[0m in \u001b[0;36m__call__\u001b[1;34m(self, iterable)\u001b[0m\n\u001b[0;32m   1030\u001b[0m                 \u001b[0mself\u001b[0m\u001b[1;33m.\u001b[0m\u001b[0m_iterating\u001b[0m \u001b[1;33m=\u001b[0m \u001b[0mself\u001b[0m\u001b[1;33m.\u001b[0m\u001b[0m_original_iterator\u001b[0m \u001b[1;32mis\u001b[0m \u001b[1;32mnot\u001b[0m \u001b[1;32mNone\u001b[0m\u001b[1;33m\u001b[0m\u001b[1;33m\u001b[0m\u001b[0m\n\u001b[0;32m   1031\u001b[0m \u001b[1;33m\u001b[0m\u001b[0m\n\u001b[1;32m-> 1032\u001b[1;33m             \u001b[1;32mwhile\u001b[0m \u001b[0mself\u001b[0m\u001b[1;33m.\u001b[0m\u001b[0mdispatch_one_batch\u001b[0m\u001b[1;33m(\u001b[0m\u001b[0miterator\u001b[0m\u001b[1;33m)\u001b[0m\u001b[1;33m:\u001b[0m\u001b[1;33m\u001b[0m\u001b[1;33m\u001b[0m\u001b[0m\n\u001b[0m\u001b[0;32m   1033\u001b[0m                 \u001b[1;32mpass\u001b[0m\u001b[1;33m\u001b[0m\u001b[1;33m\u001b[0m\u001b[0m\n\u001b[0;32m   1034\u001b[0m \u001b[1;33m\u001b[0m\u001b[0m\n",
      "\u001b[1;32m~\\anaconda3\\lib\\site-packages\\joblib\\parallel.py\u001b[0m in \u001b[0;36mdispatch_one_batch\u001b[1;34m(self, iterator)\u001b[0m\n\u001b[0;32m    845\u001b[0m                 \u001b[1;32mreturn\u001b[0m \u001b[1;32mFalse\u001b[0m\u001b[1;33m\u001b[0m\u001b[1;33m\u001b[0m\u001b[0m\n\u001b[0;32m    846\u001b[0m             \u001b[1;32melse\u001b[0m\u001b[1;33m:\u001b[0m\u001b[1;33m\u001b[0m\u001b[1;33m\u001b[0m\u001b[0m\n\u001b[1;32m--> 847\u001b[1;33m                 \u001b[0mself\u001b[0m\u001b[1;33m.\u001b[0m\u001b[0m_dispatch\u001b[0m\u001b[1;33m(\u001b[0m\u001b[0mtasks\u001b[0m\u001b[1;33m)\u001b[0m\u001b[1;33m\u001b[0m\u001b[1;33m\u001b[0m\u001b[0m\n\u001b[0m\u001b[0;32m    848\u001b[0m                 \u001b[1;32mreturn\u001b[0m \u001b[1;32mTrue\u001b[0m\u001b[1;33m\u001b[0m\u001b[1;33m\u001b[0m\u001b[0m\n\u001b[0;32m    849\u001b[0m \u001b[1;33m\u001b[0m\u001b[0m\n",
      "\u001b[1;32m~\\anaconda3\\lib\\site-packages\\joblib\\parallel.py\u001b[0m in \u001b[0;36m_dispatch\u001b[1;34m(self, batch)\u001b[0m\n\u001b[0;32m    763\u001b[0m         \u001b[1;32mwith\u001b[0m \u001b[0mself\u001b[0m\u001b[1;33m.\u001b[0m\u001b[0m_lock\u001b[0m\u001b[1;33m:\u001b[0m\u001b[1;33m\u001b[0m\u001b[1;33m\u001b[0m\u001b[0m\n\u001b[0;32m    764\u001b[0m             \u001b[0mjob_idx\u001b[0m \u001b[1;33m=\u001b[0m \u001b[0mlen\u001b[0m\u001b[1;33m(\u001b[0m\u001b[0mself\u001b[0m\u001b[1;33m.\u001b[0m\u001b[0m_jobs\u001b[0m\u001b[1;33m)\u001b[0m\u001b[1;33m\u001b[0m\u001b[1;33m\u001b[0m\u001b[0m\n\u001b[1;32m--> 765\u001b[1;33m             \u001b[0mjob\u001b[0m \u001b[1;33m=\u001b[0m \u001b[0mself\u001b[0m\u001b[1;33m.\u001b[0m\u001b[0m_backend\u001b[0m\u001b[1;33m.\u001b[0m\u001b[0mapply_async\u001b[0m\u001b[1;33m(\u001b[0m\u001b[0mbatch\u001b[0m\u001b[1;33m,\u001b[0m \u001b[0mcallback\u001b[0m\u001b[1;33m=\u001b[0m\u001b[0mcb\u001b[0m\u001b[1;33m)\u001b[0m\u001b[1;33m\u001b[0m\u001b[1;33m\u001b[0m\u001b[0m\n\u001b[0m\u001b[0;32m    766\u001b[0m             \u001b[1;31m# A job can complete so quickly than its callback is\u001b[0m\u001b[1;33m\u001b[0m\u001b[1;33m\u001b[0m\u001b[1;33m\u001b[0m\u001b[0m\n\u001b[0;32m    767\u001b[0m             \u001b[1;31m# called before we get here, causing self._jobs to\u001b[0m\u001b[1;33m\u001b[0m\u001b[1;33m\u001b[0m\u001b[1;33m\u001b[0m\u001b[0m\n",
      "\u001b[1;32m~\\anaconda3\\lib\\site-packages\\joblib\\_parallel_backends.py\u001b[0m in \u001b[0;36mapply_async\u001b[1;34m(self, func, callback)\u001b[0m\n\u001b[0;32m    206\u001b[0m     \u001b[1;32mdef\u001b[0m \u001b[0mapply_async\u001b[0m\u001b[1;33m(\u001b[0m\u001b[0mself\u001b[0m\u001b[1;33m,\u001b[0m \u001b[0mfunc\u001b[0m\u001b[1;33m,\u001b[0m \u001b[0mcallback\u001b[0m\u001b[1;33m=\u001b[0m\u001b[1;32mNone\u001b[0m\u001b[1;33m)\u001b[0m\u001b[1;33m:\u001b[0m\u001b[1;33m\u001b[0m\u001b[1;33m\u001b[0m\u001b[0m\n\u001b[0;32m    207\u001b[0m         \u001b[1;34m\"\"\"Schedule a func to be run\"\"\"\u001b[0m\u001b[1;33m\u001b[0m\u001b[1;33m\u001b[0m\u001b[0m\n\u001b[1;32m--> 208\u001b[1;33m         \u001b[0mresult\u001b[0m \u001b[1;33m=\u001b[0m \u001b[0mImmediateResult\u001b[0m\u001b[1;33m(\u001b[0m\u001b[0mfunc\u001b[0m\u001b[1;33m)\u001b[0m\u001b[1;33m\u001b[0m\u001b[1;33m\u001b[0m\u001b[0m\n\u001b[0m\u001b[0;32m    209\u001b[0m         \u001b[1;32mif\u001b[0m \u001b[0mcallback\u001b[0m\u001b[1;33m:\u001b[0m\u001b[1;33m\u001b[0m\u001b[1;33m\u001b[0m\u001b[0m\n\u001b[0;32m    210\u001b[0m             \u001b[0mcallback\u001b[0m\u001b[1;33m(\u001b[0m\u001b[0mresult\u001b[0m\u001b[1;33m)\u001b[0m\u001b[1;33m\u001b[0m\u001b[1;33m\u001b[0m\u001b[0m\n",
      "\u001b[1;32m~\\anaconda3\\lib\\site-packages\\joblib\\_parallel_backends.py\u001b[0m in \u001b[0;36m__init__\u001b[1;34m(self, batch)\u001b[0m\n\u001b[0;32m    570\u001b[0m         \u001b[1;31m# Don't delay the application, to avoid keeping the input\u001b[0m\u001b[1;33m\u001b[0m\u001b[1;33m\u001b[0m\u001b[1;33m\u001b[0m\u001b[0m\n\u001b[0;32m    571\u001b[0m         \u001b[1;31m# arguments in memory\u001b[0m\u001b[1;33m\u001b[0m\u001b[1;33m\u001b[0m\u001b[1;33m\u001b[0m\u001b[0m\n\u001b[1;32m--> 572\u001b[1;33m         \u001b[0mself\u001b[0m\u001b[1;33m.\u001b[0m\u001b[0mresults\u001b[0m \u001b[1;33m=\u001b[0m \u001b[0mbatch\u001b[0m\u001b[1;33m(\u001b[0m\u001b[1;33m)\u001b[0m\u001b[1;33m\u001b[0m\u001b[1;33m\u001b[0m\u001b[0m\n\u001b[0m\u001b[0;32m    573\u001b[0m \u001b[1;33m\u001b[0m\u001b[0m\n\u001b[0;32m    574\u001b[0m     \u001b[1;32mdef\u001b[0m \u001b[0mget\u001b[0m\u001b[1;33m(\u001b[0m\u001b[0mself\u001b[0m\u001b[1;33m)\u001b[0m\u001b[1;33m:\u001b[0m\u001b[1;33m\u001b[0m\u001b[1;33m\u001b[0m\u001b[0m\n",
      "\u001b[1;32m~\\anaconda3\\lib\\site-packages\\joblib\\parallel.py\u001b[0m in \u001b[0;36m__call__\u001b[1;34m(self)\u001b[0m\n\u001b[0;32m    250\u001b[0m         \u001b[1;31m# change the default number of processes to -1\u001b[0m\u001b[1;33m\u001b[0m\u001b[1;33m\u001b[0m\u001b[1;33m\u001b[0m\u001b[0m\n\u001b[0;32m    251\u001b[0m         \u001b[1;32mwith\u001b[0m \u001b[0mparallel_backend\u001b[0m\u001b[1;33m(\u001b[0m\u001b[0mself\u001b[0m\u001b[1;33m.\u001b[0m\u001b[0m_backend\u001b[0m\u001b[1;33m,\u001b[0m \u001b[0mn_jobs\u001b[0m\u001b[1;33m=\u001b[0m\u001b[0mself\u001b[0m\u001b[1;33m.\u001b[0m\u001b[0m_n_jobs\u001b[0m\u001b[1;33m)\u001b[0m\u001b[1;33m:\u001b[0m\u001b[1;33m\u001b[0m\u001b[1;33m\u001b[0m\u001b[0m\n\u001b[1;32m--> 252\u001b[1;33m             return [func(*args, **kwargs)\n\u001b[0m\u001b[0;32m    253\u001b[0m                     for func, args, kwargs in self.items]\n\u001b[0;32m    254\u001b[0m \u001b[1;33m\u001b[0m\u001b[0m\n",
      "\u001b[1;32m~\\anaconda3\\lib\\site-packages\\joblib\\parallel.py\u001b[0m in \u001b[0;36m<listcomp>\u001b[1;34m(.0)\u001b[0m\n\u001b[0;32m    250\u001b[0m         \u001b[1;31m# change the default number of processes to -1\u001b[0m\u001b[1;33m\u001b[0m\u001b[1;33m\u001b[0m\u001b[1;33m\u001b[0m\u001b[0m\n\u001b[0;32m    251\u001b[0m         \u001b[1;32mwith\u001b[0m \u001b[0mparallel_backend\u001b[0m\u001b[1;33m(\u001b[0m\u001b[0mself\u001b[0m\u001b[1;33m.\u001b[0m\u001b[0m_backend\u001b[0m\u001b[1;33m,\u001b[0m \u001b[0mn_jobs\u001b[0m\u001b[1;33m=\u001b[0m\u001b[0mself\u001b[0m\u001b[1;33m.\u001b[0m\u001b[0m_n_jobs\u001b[0m\u001b[1;33m)\u001b[0m\u001b[1;33m:\u001b[0m\u001b[1;33m\u001b[0m\u001b[1;33m\u001b[0m\u001b[0m\n\u001b[1;32m--> 252\u001b[1;33m             return [func(*args, **kwargs)\n\u001b[0m\u001b[0;32m    253\u001b[0m                     for func, args, kwargs in self.items]\n\u001b[0;32m    254\u001b[0m \u001b[1;33m\u001b[0m\u001b[0m\n",
      "\u001b[1;32m~\\anaconda3\\lib\\site-packages\\sklearn\\ensemble\\_forest.py\u001b[0m in \u001b[0;36m_parallel_build_trees\u001b[1;34m(tree, forest, X, y, sample_weight, tree_idx, n_trees, verbose, class_weight, n_samples_bootstrap)\u001b[0m\n\u001b[0;32m    168\u001b[0m         \u001b[0mtree\u001b[0m\u001b[1;33m.\u001b[0m\u001b[0mfit\u001b[0m\u001b[1;33m(\u001b[0m\u001b[0mX\u001b[0m\u001b[1;33m,\u001b[0m \u001b[0my\u001b[0m\u001b[1;33m,\u001b[0m \u001b[0msample_weight\u001b[0m\u001b[1;33m=\u001b[0m\u001b[0mcurr_sample_weight\u001b[0m\u001b[1;33m,\u001b[0m \u001b[0mcheck_input\u001b[0m\u001b[1;33m=\u001b[0m\u001b[1;32mFalse\u001b[0m\u001b[1;33m)\u001b[0m\u001b[1;33m\u001b[0m\u001b[1;33m\u001b[0m\u001b[0m\n\u001b[0;32m    169\u001b[0m     \u001b[1;32melse\u001b[0m\u001b[1;33m:\u001b[0m\u001b[1;33m\u001b[0m\u001b[1;33m\u001b[0m\u001b[0m\n\u001b[1;32m--> 170\u001b[1;33m         \u001b[0mtree\u001b[0m\u001b[1;33m.\u001b[0m\u001b[0mfit\u001b[0m\u001b[1;33m(\u001b[0m\u001b[0mX\u001b[0m\u001b[1;33m,\u001b[0m \u001b[0my\u001b[0m\u001b[1;33m,\u001b[0m \u001b[0msample_weight\u001b[0m\u001b[1;33m=\u001b[0m\u001b[0msample_weight\u001b[0m\u001b[1;33m,\u001b[0m \u001b[0mcheck_input\u001b[0m\u001b[1;33m=\u001b[0m\u001b[1;32mFalse\u001b[0m\u001b[1;33m)\u001b[0m\u001b[1;33m\u001b[0m\u001b[1;33m\u001b[0m\u001b[0m\n\u001b[0m\u001b[0;32m    171\u001b[0m \u001b[1;33m\u001b[0m\u001b[0m\n\u001b[0;32m    172\u001b[0m     \u001b[1;32mreturn\u001b[0m \u001b[0mtree\u001b[0m\u001b[1;33m\u001b[0m\u001b[1;33m\u001b[0m\u001b[0m\n",
      "\u001b[1;32m~\\anaconda3\\lib\\site-packages\\sklearn\\tree\\_classes.py\u001b[0m in \u001b[0;36mfit\u001b[1;34m(self, X, y, sample_weight, check_input, X_idx_sorted)\u001b[0m\n\u001b[0;32m   1240\u001b[0m         \"\"\"\n\u001b[0;32m   1241\u001b[0m \u001b[1;33m\u001b[0m\u001b[0m\n\u001b[1;32m-> 1242\u001b[1;33m         super().fit(\n\u001b[0m\u001b[0;32m   1243\u001b[0m             \u001b[0mX\u001b[0m\u001b[1;33m,\u001b[0m \u001b[0my\u001b[0m\u001b[1;33m,\u001b[0m\u001b[1;33m\u001b[0m\u001b[1;33m\u001b[0m\u001b[0m\n\u001b[0;32m   1244\u001b[0m             \u001b[0msample_weight\u001b[0m\u001b[1;33m=\u001b[0m\u001b[0msample_weight\u001b[0m\u001b[1;33m,\u001b[0m\u001b[1;33m\u001b[0m\u001b[1;33m\u001b[0m\u001b[0m\n",
      "\u001b[1;32m~\\anaconda3\\lib\\site-packages\\sklearn\\tree\\_classes.py\u001b[0m in \u001b[0;36mfit\u001b[1;34m(self, X, y, sample_weight, check_input, X_idx_sorted)\u001b[0m\n\u001b[0;32m    379\u001b[0m             \u001b[0mself\u001b[0m\u001b[1;33m.\u001b[0m\u001b[0mclasses_\u001b[0m \u001b[1;33m=\u001b[0m \u001b[0mself\u001b[0m\u001b[1;33m.\u001b[0m\u001b[0mclasses_\u001b[0m\u001b[1;33m[\u001b[0m\u001b[1;36m0\u001b[0m\u001b[1;33m]\u001b[0m\u001b[1;33m\u001b[0m\u001b[1;33m\u001b[0m\u001b[0m\n\u001b[0;32m    380\u001b[0m \u001b[1;33m\u001b[0m\u001b[0m\n\u001b[1;32m--> 381\u001b[1;33m         \u001b[0mself\u001b[0m\u001b[1;33m.\u001b[0m\u001b[0m_prune_tree\u001b[0m\u001b[1;33m(\u001b[0m\u001b[1;33m)\u001b[0m\u001b[1;33m\u001b[0m\u001b[1;33m\u001b[0m\u001b[0m\n\u001b[0m\u001b[0;32m    382\u001b[0m \u001b[1;33m\u001b[0m\u001b[0m\n\u001b[0;32m    383\u001b[0m         \u001b[1;32mreturn\u001b[0m \u001b[0mself\u001b[0m\u001b[1;33m\u001b[0m\u001b[1;33m\u001b[0m\u001b[0m\n",
      "\u001b[1;32m~\\anaconda3\\lib\\site-packages\\sklearn\\tree\\_classes.py\u001b[0m in \u001b[0;36m_prune_tree\u001b[1;34m(self)\u001b[0m\n\u001b[0;32m    525\u001b[0m                                \u001b[0mnp\u001b[0m\u001b[1;33m.\u001b[0m\u001b[0marray\u001b[0m\u001b[1;33m(\u001b[0m\u001b[1;33m[\u001b[0m\u001b[1;36m1\u001b[0m\u001b[1;33m]\u001b[0m \u001b[1;33m*\u001b[0m \u001b[0mself\u001b[0m\u001b[1;33m.\u001b[0m\u001b[0mn_outputs_\u001b[0m\u001b[1;33m,\u001b[0m \u001b[0mdtype\u001b[0m\u001b[1;33m=\u001b[0m\u001b[0mnp\u001b[0m\u001b[1;33m.\u001b[0m\u001b[0mintp\u001b[0m\u001b[1;33m)\u001b[0m\u001b[1;33m,\u001b[0m\u001b[1;33m\u001b[0m\u001b[1;33m\u001b[0m\u001b[0m\n\u001b[0;32m    526\u001b[0m                                self.n_outputs_)\n\u001b[1;32m--> 527\u001b[1;33m         \u001b[0m_build_pruned_tree_ccp\u001b[0m\u001b[1;33m(\u001b[0m\u001b[0mpruned_tree\u001b[0m\u001b[1;33m,\u001b[0m \u001b[0mself\u001b[0m\u001b[1;33m.\u001b[0m\u001b[0mtree_\u001b[0m\u001b[1;33m,\u001b[0m \u001b[0mself\u001b[0m\u001b[1;33m.\u001b[0m\u001b[0mccp_alpha\u001b[0m\u001b[1;33m)\u001b[0m\u001b[1;33m\u001b[0m\u001b[1;33m\u001b[0m\u001b[0m\n\u001b[0m\u001b[0;32m    528\u001b[0m \u001b[1;33m\u001b[0m\u001b[0m\n\u001b[0;32m    529\u001b[0m         \u001b[0mself\u001b[0m\u001b[1;33m.\u001b[0m\u001b[0mtree_\u001b[0m \u001b[1;33m=\u001b[0m \u001b[0mpruned_tree\u001b[0m\u001b[1;33m\u001b[0m\u001b[1;33m\u001b[0m\u001b[0m\n",
      "\u001b[1;31mKeyboardInterrupt\u001b[0m: "
     ]
    }
   ],
   "source": [
    "n_splits = 5\n",
    "kf = KFold(n_splits)\n",
    "kf.get_n_splits(train_permuted) \n",
    "KFold(n_splits=5, random_state=None, shuffle=False)\n",
    "trees=[10, 20, 30, 40, 50, 60, 70, 80, 90, 100]\n",
    "# trees= [10, 20]\n",
    "ccp_alphas = [0, 0.010, 0.020, 0.030]\n",
    "# ccp_alphas =[0, 0.010]\n",
    "bootstrap_opt = [True, False]\n",
    "Results = np.zeros((len(trees)*len(ccp_alphas)*len(bootstrap_opt), n_splits,3))\n",
    "p=0\n",
    "for tree in trees: \n",
    "    for bs in bootstrap_opt:\n",
    "        for alpha in ccp_alphas:\n",
    "            q=0\n",
    "            for train_index, test_index in kf.split(train_permuted):\n",
    "                print(\"TRAIN:\", train_index, \"TEST:\", test_index)\n",
    "                X_train, X_test = train_permuted[train_index], train_permuted[test_index]\n",
    "         \n",
    "                train = X_train[:,0:3] # First 11 columns are taken\n",
    "                train_y = X_train[:,3]\n",
    "                train = np.concatenate((train,X_train[:, 4:]),axis=1) \n",
    "        \n",
    "                test = X_test[:,0:3] # First 11 columns are taken\n",
    "                test_y = X_test[:,3]\n",
    "                test = np.concatenate((test,X_test[:, 4:]),axis=1)  \n",
    "        \n",
    "                regr = RandomForestRegressor(n_estimators=tree, bootstrap = bs, ccp_alpha = alpha)\n",
    "                regr.fit(train, train_y)\n",
    "                y_pred = regr.predict(test) # Prediction corresponding to the test set\n",
    "                print(p,q)\n",
    "                Results[p,q,0] = mean_squared_error(test_y, y_pred)\n",
    "                Results[p,q,1] = mean_absolute_error(test_y, y_pred)\n",
    "                Results[p,q,2] = r2_score(test_y, y_pred)\n",
    "            \n",
    "                q+=1\n",
    "            p+=1\n"
   ]
  },
  {
   "cell_type": "code",
   "execution_count": 13,
   "metadata": {},
   "outputs": [
    {
     "name": "stdout",
     "output_type": "stream",
     "text": [
      "[0.00176059 0.346951   0.34695102 0.34695114 0.00179525 0.34695104\n",
      " 0.34695104 0.34695104 0.00174263 0.34695101 0.34695101 0.34695127\n",
      " 0.00179525 0.34695104 0.34695104 0.34695104 0.00173994 0.34695108\n",
      " 0.34695111 0.34695101 0.00179525 0.2082814  0.         0.\n",
      " 0.         0.         0.         0.         0.         0.\n",
      " 0.         0.         0.         0.         0.         0.\n",
      " 0.         0.         0.         0.         0.         0.\n",
      " 0.         0.         0.         0.         0.         0.\n",
      " 0.         0.         0.         0.         0.         0.\n",
      " 0.         0.         0.         0.         0.         0.\n",
      " 0.         0.         0.         0.         0.         0.\n",
      " 0.         0.         0.         0.         0.         0.\n",
      " 0.         0.         0.         0.         0.         0.\n",
      " 0.         0.        ]\n",
      "22\n"
     ]
    }
   ],
   "source": [
    "np.savetxt('RF_Cross_validation_MSE_results.csv', Results[:,:,0], delimiter=',')\n",
    "np.savetxt('RF_Cross_validation_MAE_results.csv', Results[:,:,1], delimiter=',')\n",
    "np.savetxt('RF_Cross_validation_R2_results.csv', Results[:,:,2], delimiter=',')\n",
    "RMSE_summary = Results[:,:,0]\n",
    "RMSE_summary = np.sum(RMSE_summary, axis = 1)\n",
    "print(RMSE_summary)\n",
    "RMSE_summary = np.argmin(RMSE_summary)\n",
    "print(RMSE_summary)\n",
    "if RMSE_summary <= (len(ccp_alphas) * len(bootstrap_opt)):\n",
    "    if RMSE_summary < len(ccp_alphas):\n",
    "        ind,ind1 = 0,0\n",
    "        tree = trees[ind]\n",
    "        bs = bootstrap_opt[ind1]\n",
    "        ccp = ccp_alphas[RMSE_summary]\n",
    "    else:\n",
    "        ind,ind1 = 0,1\n",
    "        tree = trees[ind]\n",
    "        bs = bootstrap_opt[ind1]\n",
    "        \n",
    "        ccp = ccp_alphas[RMSE_summary-(len(ccp_alphas)*len(bootstrap_opt))]\n",
    "    \n",
    "else:\n",
    "    ind = RMSE_summary // (len(ccp_alphas)*len(bootstrap_opt)) \n",
    "    ind1 = RMSE_summary-(ind*len(ccp_alphas)*len(bootstrap_opt))\n",
    "    if ind1 <= 3:\n",
    "        ind2 = 0\n",
    "        ind1 = ind1\n",
    "        tree = trees[ind]\n",
    "        bs = bootstrap_opt[ind2]\n",
    "        ccp = ccp_alphas[ind1]\n",
    "    else:\n",
    "        ind2 = 1\n",
    "        tree = trees[ind]\n",
    "        bs = bootstrap_opt[ind2]\n",
    "        ccp = ccp_alphas[ind1-(len(ccp_alphas)*len(bootstrap_opt))]\n",
    "\n",
    "    "
   ]
  },
  {
   "cell_type": "code",
   "execution_count": 12,
   "metadata": {},
   "outputs": [
    {
     "ename": "NameError",
     "evalue": "name 'RMSE_summary' is not defined",
     "output_type": "error",
     "traceback": [
      "\u001b[1;31m---------------------------------------------------------------------------\u001b[0m",
      "\u001b[1;31mNameError\u001b[0m                                 Traceback (most recent call last)",
      "\u001b[1;32m<ipython-input-12-f400fb3a111b>\u001b[0m in \u001b[0;36m<module>\u001b[1;34m\u001b[0m\n\u001b[1;32m----> 1\u001b[1;33m \u001b[0mprint\u001b[0m\u001b[1;33m(\u001b[0m\u001b[0mRMSE_summary\u001b[0m\u001b[1;33m)\u001b[0m\u001b[1;33m\u001b[0m\u001b[1;33m\u001b[0m\u001b[0m\n\u001b[0m\u001b[0;32m      2\u001b[0m \u001b[0mprint\u001b[0m\u001b[1;33m(\u001b[0m\u001b[0mtree\u001b[0m\u001b[1;33m,\u001b[0m\u001b[0mbs\u001b[0m\u001b[1;33m,\u001b[0m\u001b[0mccp\u001b[0m\u001b[1;33m)\u001b[0m\u001b[1;33m\u001b[0m\u001b[1;33m\u001b[0m\u001b[0m\n",
      "\u001b[1;31mNameError\u001b[0m: name 'RMSE_summary' is not defined"
     ]
    }
   ],
   "source": [
    "print(RMSE_summary)\n",
    "print(tree,bs,ccp)"
   ]
  },
  {
   "cell_type": "code",
   "execution_count": 13,
   "metadata": {},
   "outputs": [
    {
     "ename": "NameError",
     "evalue": "name 'RMSE_summary' is not defined",
     "output_type": "error",
     "traceback": [
      "\u001b[1;31m---------------------------------------------------------------------------\u001b[0m",
      "\u001b[1;31mNameError\u001b[0m                                 Traceback (most recent call last)",
      "\u001b[1;32m<ipython-input-13-fc76b7010cda>\u001b[0m in \u001b[0;36m<module>\u001b[1;34m\u001b[0m\n\u001b[1;32m----> 1\u001b[1;33m \u001b[0mRMSE_summary\u001b[0m\u001b[1;33m\u001b[0m\u001b[1;33m\u001b[0m\u001b[0m\n\u001b[0m",
      "\u001b[1;31mNameError\u001b[0m: name 'RMSE_summary' is not defined"
     ]
    }
   ],
   "source": [
    "RMSE_summary"
   ]
  },
  {
   "cell_type": "code",
   "execution_count": 14,
   "metadata": {},
   "outputs": [
    {
     "name": "stdout",
     "output_type": "stream",
     "text": [
      "Final Results\n",
      "RMSE: \n",
      "0.00045483066660069444\n",
      "MAE: \n",
      "0.00455732109841671\n",
      "R2 score: \n",
      "0.993397112988314\n"
     ]
    }
   ],
   "source": [
    "train = train_permuted[:,0:3] # First 11 columns are taken\n",
    "train_y = train_permuted[:,3]\n",
    "train = np.concatenate((train,train_permuted[:, 4:]),axis=1)  \n",
    "\n",
    "test = test_org[:,0:3] # First 11 columns are taken\n",
    "test_y = test_org[:,3]\n",
    "test = np.concatenate((test,test_org[:, 4:]),axis=1)  \n",
    "\n",
    "tree=80\n",
    "bs = True\n",
    "ccp = 0\n",
    "regr = RandomForestRegressor(n_estimators=tree, bootstrap = bs, ccp_alpha = ccp)\n",
    "regr.fit(train, train_y)\n",
    "\n",
    "y_pred = regr.predict(test) # Prediction corresponding to the test set\n",
    "y_pred=y_pred.reshape(y_pred.shape[0],1) # Reshaping y_pred for visualization\n",
    "test_y=test_y.reshape(test_y.shape[0],1) # The actual values of the test set\n",
    "result=np.concatenate((test_y,y_pred),axis=1) # Actual value and predicted value is stored in \"result\" variable.\n",
    "\n",
    "np.savetxt(\"RF_result.csv\",result)\n",
    "print(\"Final Results\")\n",
    "print(\"RMSE: \")\n",
    "print( mean_squared_error(test_y, y_pred))\n",
    "print(\"MAE: \")      \n",
    "print(mean_absolute_error(test_y, y_pred))\n",
    "print(\"R2 score: \")\n",
    "print(r2_score(test_y, y_pred))"
   ]
  },
  {
   "cell_type": "code",
   "execution_count": 15,
   "metadata": {},
   "outputs": [
    {
     "name": "stdout",
     "output_type": "stream",
     "text": [
      "(1010875, 60)\n"
     ]
    }
   ],
   "source": [
    "print(train.shape)"
   ]
  },
  {
   "cell_type": "code",
   "execution_count": 16,
   "metadata": {},
   "outputs": [],
   "source": [
    "#Model saving\n",
    "filename = 'DT_finalized_model.sav'\n",
    "pickle.dump(regr, open(filename, 'wb'))"
   ]
  },
  {
   "cell_type": "code",
   "execution_count": null,
   "metadata": {},
   "outputs": [],
   "source": [
    "loaded_model = pickle.load(open(filename, 'rb'))\n",
    "y_pred = loaded_model.predict(test)\n",
    "y_pred=y_pred.reshape(y_pred.shape[0],1) # Reshaping y_pred for visualization\n",
    "test_y=test_y.reshape(test_y.shape[0],1) # The actual values of the test set\n",
    "result=np.concatenate((test_y,y_pred),axis=1) # Actual value and predicted value is stored in \"result\" variable.\n",
    "print( mean_squared_error(test_y, y_pred))"
   ]
  },
  {
   "cell_type": "markdown",
   "metadata": {},
   "source": [
    "# Output visualization"
   ]
  },
  {
   "cell_type": "code",
   "execution_count": 27,
   "metadata": {},
   "outputs": [
    {
     "name": "stdout",
     "output_type": "stream",
     "text": [
      "Enter an integer between 0 to 10108 to test the model : 45\n",
      "Heatmap Actual and Heatmap predicted\n"
     ]
    },
    {
     "data": {
      "image/png": "[encoded data removed]",
      "text/plain": [
       "<Figure size 864x288 with 4 Axes>"
      ]
     },
     "metadata": {
      "needs_background": "light"
     },
     "output_type": "display_data"
    }
   ],
   "source": [
    "real=np.zeros((25,1))\n",
    "predctd = np.zeros((25,1))\n",
    "\n",
    "pos = int(input(\"Enter an integer between 0 to 10108 to test the model : \"))\n",
    "pos = pos*25+9\n",
    "\n",
    "real=test_y[pos:pos+25,-1]\n",
    "predctd = y_pred[pos:pos+25,-1]\n",
    "\n",
    "real=np.reshape(real,(5,5))\n",
    "predctd = np.reshape(predctd,(5,5))\n",
    "\n",
    "\n",
    "print(\"Heatmap Actual and Heatmap predicted\")\n",
    "plt.figure(figsize=(12,4))\n",
    "plt.subplot(121)\n",
    "heat_map = sb.heatmap(real, vmin = 0, vmax = 1.30141, cmap=\"OrRd_r\", annot=True)\n",
    "plt.subplot(122)\n",
    "heat_map = sb.heatmap(predctd,  vmin = 0, vmax = 1.30141, cmap=\"OrRd_r\", annot=True)"
   ]
  },
  {
   "cell_type": "code",
   "execution_count": 22,
   "metadata": {},
   "outputs": [
    {
     "name": "stdout",
     "output_type": "stream",
     "text": [
      "(252725, 61)\n",
      "(252725, 2)\n"
     ]
    }
   ],
   "source": [
    "print(test_org.shape)\n",
    "print(result.shape)"
   ]
  },
  {
   "cell_type": "code",
   "execution_count": 23,
   "metadata": {},
   "outputs": [
    {
     "data": {
      "text/plain": [
       "10109.0"
      ]
     },
     "execution_count": 23,
     "metadata": {},
     "output_type": "execute_result"
    }
   ],
   "source": [
    "252725/25"
   ]
  },
  {
   "cell_type": "code",
   "execution_count": null,
   "metadata": {},
   "outputs": [],
   "source": []
  }
 ],
 "metadata": {
  "kernelspec": {
   "display_name": "Python 3",
   "language": "python",
   "name": "python3"
  },
  "language_info": {
   "codemirror_mode": {
    "name": "ipython",
    "version": 3
   },
   "file_extension": ".py",
   "mimetype": "text/x-python",
   "name": "python",
   "nbconvert_exporter": "python",
   "pygments_lexer": "ipython3",
   "version": "3.8.3"
  }
 },
 "nbformat": 4,
 "nbformat_minor": 2
}
